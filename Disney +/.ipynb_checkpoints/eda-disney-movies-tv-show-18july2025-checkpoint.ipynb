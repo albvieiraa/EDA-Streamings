{
 "cells": [
  {
   "cell_type": "markdown",
   "metadata": {},
   "source": [
    "# EDA - Disney+ Movies & TV Shows"
   ]
  },
  {
   "cell_type": "markdown",
   "metadata": {},
   "source": [
    "## Library"
   ]
  },
  {
   "cell_type": "code",
   "execution_count": 1,
   "metadata": {},
   "outputs": [],
   "source": [
    "import pandas as pd\n",
    "import numpy as np\n",
    "import matplotlib.pyplot as plt\n",
    "import seaborn as sns"
   ]
  },
  {
   "cell_type": "markdown",
   "metadata": {},
   "source": [
    "## Files"
   ]
  },
  {
   "cell_type": "code",
   "execution_count": 6,
   "metadata": {},
   "outputs": [],
   "source": [
    "url = 'https://raw.githubusercontent.com/albvieiraa/EDA-Streamings/main/datasets/disney_plus_titles.csv'"
   ]
  },
  {
   "cell_type": "code",
   "execution_count": 7,
   "metadata": {},
   "outputs": [
    {
     "data": {
      "text/html": [
       "<div>\n",
       "<style scoped>\n",
       "    .dataframe tbody tr th:only-of-type {\n",
       "        vertical-align: middle;\n",
       "    }\n",
       "\n",
       "    .dataframe tbody tr th {\n",
       "        vertical-align: top;\n",
       "    }\n",
       "\n",
       "    .dataframe thead th {\n",
       "        text-align: right;\n",
       "    }\n",
       "</style>\n",
       "<table border=\"1\" class=\"dataframe\">\n",
       "  <thead>\n",
       "    <tr style=\"text-align: right;\">\n",
       "      <th></th>\n",
       "      <th>show_id</th>\n",
       "      <th>type</th>\n",
       "      <th>title</th>\n",
       "      <th>director</th>\n",
       "      <th>cast</th>\n",
       "      <th>country</th>\n",
       "      <th>date_added</th>\n",
       "      <th>release_year</th>\n",
       "      <th>rating</th>\n",
       "      <th>duration</th>\n",
       "      <th>listed_in</th>\n",
       "      <th>description</th>\n",
       "    </tr>\n",
       "  </thead>\n",
       "  <tbody>\n",
       "    <tr>\n",
       "      <th>0</th>\n",
       "      <td>s1</td>\n",
       "      <td>Movie</td>\n",
       "      <td>Duck the Halls: A Mickey Mouse Christmas Special</td>\n",
       "      <td>Alonso Ramirez Ramos, Dave Wasson</td>\n",
       "      <td>Chris Diamantopoulos, Tony Anselmo, Tress MacN...</td>\n",
       "      <td>NaN</td>\n",
       "      <td>November 26, 2021</td>\n",
       "      <td>2016</td>\n",
       "      <td>TV-G</td>\n",
       "      <td>23 min</td>\n",
       "      <td>Animation, Family</td>\n",
       "      <td>Join Mickey and the gang as they duck the halls!</td>\n",
       "    </tr>\n",
       "    <tr>\n",
       "      <th>1</th>\n",
       "      <td>s2</td>\n",
       "      <td>Movie</td>\n",
       "      <td>Ernest Saves Christmas</td>\n",
       "      <td>John Cherry</td>\n",
       "      <td>Jim Varney, Noelle Parker, Douglas Seale</td>\n",
       "      <td>NaN</td>\n",
       "      <td>November 26, 2021</td>\n",
       "      <td>1988</td>\n",
       "      <td>PG</td>\n",
       "      <td>91 min</td>\n",
       "      <td>Comedy</td>\n",
       "      <td>Santa Claus passes his magic bag to a new St. ...</td>\n",
       "    </tr>\n",
       "    <tr>\n",
       "      <th>2</th>\n",
       "      <td>s3</td>\n",
       "      <td>Movie</td>\n",
       "      <td>Ice Age: A Mammoth Christmas</td>\n",
       "      <td>Karen Disher</td>\n",
       "      <td>Raymond Albert Romano, John Leguizamo, Denis L...</td>\n",
       "      <td>United States</td>\n",
       "      <td>November 26, 2021</td>\n",
       "      <td>2011</td>\n",
       "      <td>TV-G</td>\n",
       "      <td>23 min</td>\n",
       "      <td>Animation, Comedy, Family</td>\n",
       "      <td>Sid the Sloth is on Santa's naughty list.</td>\n",
       "    </tr>\n",
       "    <tr>\n",
       "      <th>3</th>\n",
       "      <td>s4</td>\n",
       "      <td>Movie</td>\n",
       "      <td>The Queen Family Singalong</td>\n",
       "      <td>Hamish Hamilton</td>\n",
       "      <td>Darren Criss, Adam Lambert, Derek Hough, Alexa...</td>\n",
       "      <td>NaN</td>\n",
       "      <td>November 26, 2021</td>\n",
       "      <td>2021</td>\n",
       "      <td>TV-PG</td>\n",
       "      <td>41 min</td>\n",
       "      <td>Musical</td>\n",
       "      <td>This is real life, not just fantasy!</td>\n",
       "    </tr>\n",
       "    <tr>\n",
       "      <th>4</th>\n",
       "      <td>s5</td>\n",
       "      <td>TV Show</td>\n",
       "      <td>The Beatles: Get Back</td>\n",
       "      <td>NaN</td>\n",
       "      <td>John Lennon, Paul McCartney, George Harrison, ...</td>\n",
       "      <td>NaN</td>\n",
       "      <td>November 25, 2021</td>\n",
       "      <td>2021</td>\n",
       "      <td>NaN</td>\n",
       "      <td>1 Season</td>\n",
       "      <td>Docuseries, Historical, Music</td>\n",
       "      <td>A three-part documentary from Peter Jackson ca...</td>\n",
       "    </tr>\n",
       "  </tbody>\n",
       "</table>\n",
       "</div>"
      ],
      "text/plain": [
       "  show_id     type                                             title  \\\n",
       "0      s1    Movie  Duck the Halls: A Mickey Mouse Christmas Special   \n",
       "1      s2    Movie                            Ernest Saves Christmas   \n",
       "2      s3    Movie                      Ice Age: A Mammoth Christmas   \n",
       "3      s4    Movie                        The Queen Family Singalong   \n",
       "4      s5  TV Show                             The Beatles: Get Back   \n",
       "\n",
       "                            director  \\\n",
       "0  Alonso Ramirez Ramos, Dave Wasson   \n",
       "1                        John Cherry   \n",
       "2                       Karen Disher   \n",
       "3                    Hamish Hamilton   \n",
       "4                                NaN   \n",
       "\n",
       "                                                cast        country  \\\n",
       "0  Chris Diamantopoulos, Tony Anselmo, Tress MacN...            NaN   \n",
       "1           Jim Varney, Noelle Parker, Douglas Seale            NaN   \n",
       "2  Raymond Albert Romano, John Leguizamo, Denis L...  United States   \n",
       "3  Darren Criss, Adam Lambert, Derek Hough, Alexa...            NaN   \n",
       "4  John Lennon, Paul McCartney, George Harrison, ...            NaN   \n",
       "\n",
       "          date_added  release_year rating  duration  \\\n",
       "0  November 26, 2021          2016   TV-G    23 min   \n",
       "1  November 26, 2021          1988     PG    91 min   \n",
       "2  November 26, 2021          2011   TV-G    23 min   \n",
       "3  November 26, 2021          2021  TV-PG    41 min   \n",
       "4  November 25, 2021          2021    NaN  1 Season   \n",
       "\n",
       "                       listed_in  \\\n",
       "0              Animation, Family   \n",
       "1                         Comedy   \n",
       "2      Animation, Comedy, Family   \n",
       "3                        Musical   \n",
       "4  Docuseries, Historical, Music   \n",
       "\n",
       "                                         description  \n",
       "0   Join Mickey and the gang as they duck the halls!  \n",
       "1  Santa Claus passes his magic bag to a new St. ...  \n",
       "2          Sid the Sloth is on Santa's naughty list.  \n",
       "3               This is real life, not just fantasy!  \n",
       "4  A three-part documentary from Peter Jackson ca...  "
      ]
     },
     "execution_count": 7,
     "metadata": {},
     "output_type": "execute_result"
    }
   ],
   "source": [
    "df_disney_raw = pd.read_csv(url)\n",
    "df_disney_raw.head(5)"
   ]
  },
  {
   "cell_type": "markdown",
   "metadata": {},
   "source": [
    "## Exploration"
   ]
  },
  {
   "cell_type": "code",
   "execution_count": 4,
   "metadata": {
    "execution": {
     "iopub.execute_input": "2025-07-18T21:06:33.088840Z",
     "iopub.status.busy": "2025-07-18T21:06:33.088439Z",
     "iopub.status.idle": "2025-07-18T21:06:33.112866Z",
     "shell.execute_reply": "2025-07-18T21:06:33.111674Z",
     "shell.execute_reply.started": "2025-07-18T21:06:33.088814Z"
    }
   },
   "outputs": [
    {
     "data": {
      "text/html": [
       "<div>\n",
       "<style scoped>\n",
       "    .dataframe tbody tr th:only-of-type {\n",
       "        vertical-align: middle;\n",
       "    }\n",
       "\n",
       "    .dataframe tbody tr th {\n",
       "        vertical-align: top;\n",
       "    }\n",
       "\n",
       "    .dataframe thead th {\n",
       "        text-align: right;\n",
       "    }\n",
       "</style>\n",
       "<table border=\"1\" class=\"dataframe\">\n",
       "  <thead>\n",
       "    <tr style=\"text-align: right;\">\n",
       "      <th></th>\n",
       "      <th>release_year</th>\n",
       "    </tr>\n",
       "  </thead>\n",
       "  <tbody>\n",
       "    <tr>\n",
       "      <th>count</th>\n",
       "      <td>1450.000000</td>\n",
       "    </tr>\n",
       "    <tr>\n",
       "      <th>mean</th>\n",
       "      <td>2003.091724</td>\n",
       "    </tr>\n",
       "    <tr>\n",
       "      <th>std</th>\n",
       "      <td>21.860162</td>\n",
       "    </tr>\n",
       "    <tr>\n",
       "      <th>min</th>\n",
       "      <td>1928.000000</td>\n",
       "    </tr>\n",
       "    <tr>\n",
       "      <th>25%</th>\n",
       "      <td>1999.000000</td>\n",
       "    </tr>\n",
       "    <tr>\n",
       "      <th>50%</th>\n",
       "      <td>2011.000000</td>\n",
       "    </tr>\n",
       "    <tr>\n",
       "      <th>75%</th>\n",
       "      <td>2018.000000</td>\n",
       "    </tr>\n",
       "    <tr>\n",
       "      <th>max</th>\n",
       "      <td>2021.000000</td>\n",
       "    </tr>\n",
       "  </tbody>\n",
       "</table>\n",
       "</div>"
      ],
      "text/plain": [
       "       release_year\n",
       "count   1450.000000\n",
       "mean    2003.091724\n",
       "std       21.860162\n",
       "min     1928.000000\n",
       "25%     1999.000000\n",
       "50%     2011.000000\n",
       "75%     2018.000000\n",
       "max     2021.000000"
      ]
     },
     "execution_count": 4,
     "metadata": {},
     "output_type": "execute_result"
    }
   ],
   "source": [
    "df_disney_raw.describe()"
   ]
  },
  {
   "cell_type": "code",
   "execution_count": 5,
   "metadata": {
    "execution": {
     "iopub.execute_input": "2025-07-18T21:06:35.750133Z",
     "iopub.status.busy": "2025-07-18T21:06:35.749749Z",
     "iopub.status.idle": "2025-07-18T21:06:35.779662Z",
     "shell.execute_reply": "2025-07-18T21:06:35.778134Z",
     "shell.execute_reply.started": "2025-07-18T21:06:35.750105Z"
    }
   },
   "outputs": [
    {
     "name": "stdout",
     "output_type": "stream",
     "text": [
      "<class 'pandas.core.frame.DataFrame'>\n",
      "RangeIndex: 1450 entries, 0 to 1449\n",
      "Data columns (total 12 columns):\n",
      " #   Column        Non-Null Count  Dtype \n",
      "---  ------        --------------  ----- \n",
      " 0   show_id       1450 non-null   object\n",
      " 1   type          1450 non-null   object\n",
      " 2   title         1450 non-null   object\n",
      " 3   director      977 non-null    object\n",
      " 4   cast          1260 non-null   object\n",
      " 5   country       1231 non-null   object\n",
      " 6   date_added    1447 non-null   object\n",
      " 7   release_year  1450 non-null   int64 \n",
      " 8   rating        1447 non-null   object\n",
      " 9   duration      1450 non-null   object\n",
      " 10  listed_in     1450 non-null   object\n",
      " 11  description   1450 non-null   object\n",
      "dtypes: int64(1), object(11)\n",
      "memory usage: 136.1+ KB\n"
     ]
    }
   ],
   "source": [
    "df_disney_raw.info()"
   ]
  },
  {
   "cell_type": "code",
   "execution_count": 6,
   "metadata": {
    "execution": {
     "iopub.execute_input": "2025-07-18T21:06:38.757328Z",
     "iopub.status.busy": "2025-07-18T21:06:38.756996Z",
     "iopub.status.idle": "2025-07-18T21:06:38.766945Z",
     "shell.execute_reply": "2025-07-18T21:06:38.766068Z",
     "shell.execute_reply.started": "2025-07-18T21:06:38.757298Z"
    }
   },
   "outputs": [
    {
     "data": {
      "text/plain": [
       "show_id           0\n",
       "type              0\n",
       "title             0\n",
       "director        473\n",
       "cast            190\n",
       "country         219\n",
       "date_added        3\n",
       "release_year      0\n",
       "rating            3\n",
       "duration          0\n",
       "listed_in         0\n",
       "description       0\n",
       "dtype: int64"
      ]
     },
     "execution_count": 6,
     "metadata": {},
     "output_type": "execute_result"
    }
   ],
   "source": [
    "df_disney_raw.isnull().sum()"
   ]
  },
  {
   "cell_type": "code",
   "execution_count": 7,
   "metadata": {
    "execution": {
     "iopub.execute_input": "2025-07-18T21:06:41.176932Z",
     "iopub.status.busy": "2025-07-18T21:06:41.176546Z",
     "iopub.status.idle": "2025-07-18T21:06:41.184526Z",
     "shell.execute_reply": "2025-07-18T21:06:41.183271Z",
     "shell.execute_reply.started": "2025-07-18T21:06:41.176903Z"
    }
   },
   "outputs": [
    {
     "data": {
      "text/plain": [
       "array(['TV-G', 'PG', 'TV-PG', nan, 'PG-13', 'TV-14', 'G', 'TV-Y7', 'TV-Y',\n",
       "       'TV-Y7-FV'], dtype=object)"
      ]
     },
     "execution_count": 7,
     "metadata": {},
     "output_type": "execute_result"
    }
   ],
   "source": [
    "# categories\n",
    "df_disney_raw['rating'].unique()"
   ]
  },
  {
   "cell_type": "code",
   "execution_count": 8,
   "metadata": {
    "execution": {
     "iopub.execute_input": "2025-07-18T21:06:41.874671Z",
     "iopub.status.busy": "2025-07-18T21:06:41.873510Z",
     "iopub.status.idle": "2025-07-18T21:06:41.881565Z",
     "shell.execute_reply": "2025-07-18T21:06:41.880349Z",
     "shell.execute_reply.started": "2025-07-18T21:06:41.874574Z"
    }
   },
   "outputs": [
    {
     "data": {
      "text/plain": [
       "array(['Movie', 'TV Show'], dtype=object)"
      ]
     },
     "execution_count": 8,
     "metadata": {},
     "output_type": "execute_result"
    }
   ],
   "source": [
    "df_disney_raw['type'].unique()"
   ]
  },
  {
   "cell_type": "code",
   "execution_count": 9,
   "metadata": {
    "execution": {
     "iopub.execute_input": "2025-07-18T21:06:42.921426Z",
     "iopub.status.busy": "2025-07-18T21:06:42.921088Z",
     "iopub.status.idle": "2025-07-18T21:06:42.934988Z",
     "shell.execute_reply": "2025-07-18T21:06:42.933657Z",
     "shell.execute_reply.started": "2025-07-18T21:06:42.921374Z"
    }
   },
   "outputs": [
    {
     "data": {
      "text/plain": [
       "0"
      ]
     },
     "execution_count": 9,
     "metadata": {},
     "output_type": "execute_result"
    }
   ],
   "source": [
    "df_disney_raw.duplicated().sum()"
   ]
  },
  {
   "cell_type": "markdown",
   "metadata": {},
   "source": [
    "About cleaning and transformation:\n",
    "\n",
    "1. Change name of \"**listed_in**\" to \"**gender**\";\n",
    "2. Nan as \"*No information*\"\n",
    "3. Filter by type of midia and creat two datasets\n",
    "4. Split column \"**duration**\"\n",
    "5. Change type from \"**date_added**\" > datetime; \"**duration**\" > float;\n",
    "\n",
    "\n",
    "Obs: I decided filter by midia first, because the duration and date_added transformation would be different by type of midia"
   ]
  },
  {
   "cell_type": "markdown",
   "metadata": {},
   "source": [
    "## Cleaning"
   ]
  },
  {
   "cell_type": "code",
   "execution_count": 10,
   "metadata": {
    "execution": {
     "iopub.execute_input": "2025-07-18T21:07:04.408140Z",
     "iopub.status.busy": "2025-07-18T21:07:04.407828Z",
     "iopub.status.idle": "2025-07-18T21:07:04.414717Z",
     "shell.execute_reply": "2025-07-18T21:07:04.413247Z",
     "shell.execute_reply.started": "2025-07-18T21:07:04.408118Z"
    }
   },
   "outputs": [],
   "source": [
    "df_disney_cleaning = df_disney_raw.copy()"
   ]
  },
  {
   "cell_type": "markdown",
   "metadata": {},
   "source": [
    "1. Renaming columns"
   ]
  },
  {
   "cell_type": "code",
   "execution_count": 11,
   "metadata": {
    "execution": {
     "iopub.execute_input": "2025-07-18T21:07:08.354679Z",
     "iopub.status.busy": "2025-07-18T21:07:08.354267Z",
     "iopub.status.idle": "2025-07-18T21:07:08.361722Z",
     "shell.execute_reply": "2025-07-18T21:07:08.360322Z",
     "shell.execute_reply.started": "2025-07-18T21:07:08.354652Z"
    }
   },
   "outputs": [],
   "source": [
    "df_disney_cleaning = df_disney_cleaning.rename(columns={'listed_in': 'gender'})"
   ]
  },
  {
   "cell_type": "markdown",
   "metadata": {},
   "source": [
    "2. Fill NaN"
   ]
  },
  {
   "cell_type": "code",
   "execution_count": 12,
   "metadata": {
    "execution": {
     "iopub.execute_input": "2025-07-18T21:08:41.408308Z",
     "iopub.status.busy": "2025-07-18T21:08:41.407759Z",
     "iopub.status.idle": "2025-07-18T21:08:41.417856Z",
     "shell.execute_reply": "2025-07-18T21:08:41.416690Z",
     "shell.execute_reply.started": "2025-07-18T21:08:41.408277Z"
    }
   },
   "outputs": [],
   "source": [
    "df_disney_cleaning = df_disney_cleaning.fillna(\"No information\")"
   ]
  },
  {
   "cell_type": "code",
   "execution_count": 13,
   "metadata": {
    "execution": {
     "iopub.execute_input": "2025-07-18T21:08:42.873401Z",
     "iopub.status.busy": "2025-07-18T21:08:42.873074Z",
     "iopub.status.idle": "2025-07-18T21:08:42.883519Z",
     "shell.execute_reply": "2025-07-18T21:08:42.882303Z",
     "shell.execute_reply.started": "2025-07-18T21:08:42.873379Z"
    }
   },
   "outputs": [
    {
     "data": {
      "text/plain": [
       "show_id         0\n",
       "type            0\n",
       "title           0\n",
       "director        0\n",
       "cast            0\n",
       "country         0\n",
       "date_added      0\n",
       "release_year    0\n",
       "rating          0\n",
       "duration        0\n",
       "gender          0\n",
       "description     0\n",
       "dtype: int64"
      ]
     },
     "execution_count": 13,
     "metadata": {},
     "output_type": "execute_result"
    }
   ],
   "source": [
    "df_disney_cleaning.isnull().sum()"
   ]
  },
  {
   "cell_type": "markdown",
   "metadata": {},
   "source": [
    "3. Filter by midia"
   ]
  },
  {
   "cell_type": "code",
   "execution_count": 14,
   "metadata": {
    "execution": {
     "iopub.execute_input": "2025-07-18T21:08:50.522543Z",
     "iopub.status.busy": "2025-07-18T21:08:50.522171Z",
     "iopub.status.idle": "2025-07-18T21:08:50.535257Z",
     "shell.execute_reply": "2025-07-18T21:08:50.533471Z",
     "shell.execute_reply.started": "2025-07-18T21:08:50.522512Z"
    }
   },
   "outputs": [
    {
     "data": {
      "text/plain": [
       "(1052, 12)"
      ]
     },
     "execution_count": 14,
     "metadata": {},
     "output_type": "execute_result"
    }
   ],
   "source": [
    "# Movies\n",
    "df_disney_movies = df_disney_cleaning[df_disney_cleaning['type']=='Movie']\n",
    "df_disney_movies.shape"
   ]
  },
  {
   "cell_type": "code",
   "execution_count": 15,
   "metadata": {
    "execution": {
     "iopub.execute_input": "2025-07-18T21:08:52.180309Z",
     "iopub.status.busy": "2025-07-18T21:08:52.179912Z",
     "iopub.status.idle": "2025-07-18T21:08:52.195416Z",
     "shell.execute_reply": "2025-07-18T21:08:52.194007Z",
     "shell.execute_reply.started": "2025-07-18T21:08:52.180283Z"
    }
   },
   "outputs": [
    {
     "data": {
      "text/html": [
       "<div>\n",
       "<style scoped>\n",
       "    .dataframe tbody tr th:only-of-type {\n",
       "        vertical-align: middle;\n",
       "    }\n",
       "\n",
       "    .dataframe tbody tr th {\n",
       "        vertical-align: top;\n",
       "    }\n",
       "\n",
       "    .dataframe thead th {\n",
       "        text-align: right;\n",
       "    }\n",
       "</style>\n",
       "<table border=\"1\" class=\"dataframe\">\n",
       "  <thead>\n",
       "    <tr style=\"text-align: right;\">\n",
       "      <th></th>\n",
       "      <th>release_year</th>\n",
       "    </tr>\n",
       "  </thead>\n",
       "  <tbody>\n",
       "    <tr>\n",
       "      <th>count</th>\n",
       "      <td>1052.000000</td>\n",
       "    </tr>\n",
       "    <tr>\n",
       "      <th>mean</th>\n",
       "      <td>1999.230989</td>\n",
       "    </tr>\n",
       "    <tr>\n",
       "      <th>std</th>\n",
       "      <td>23.858584</td>\n",
       "    </tr>\n",
       "    <tr>\n",
       "      <th>min</th>\n",
       "      <td>1928.000000</td>\n",
       "    </tr>\n",
       "    <tr>\n",
       "      <th>25%</th>\n",
       "      <td>1994.000000</td>\n",
       "    </tr>\n",
       "    <tr>\n",
       "      <th>50%</th>\n",
       "      <td>2008.000000</td>\n",
       "    </tr>\n",
       "    <tr>\n",
       "      <th>75%</th>\n",
       "      <td>2017.000000</td>\n",
       "    </tr>\n",
       "    <tr>\n",
       "      <th>max</th>\n",
       "      <td>2021.000000</td>\n",
       "    </tr>\n",
       "  </tbody>\n",
       "</table>\n",
       "</div>"
      ],
      "text/plain": [
       "       release_year\n",
       "count   1052.000000\n",
       "mean    1999.230989\n",
       "std       23.858584\n",
       "min     1928.000000\n",
       "25%     1994.000000\n",
       "50%     2008.000000\n",
       "75%     2017.000000\n",
       "max     2021.000000"
      ]
     },
     "execution_count": 15,
     "metadata": {},
     "output_type": "execute_result"
    }
   ],
   "source": [
    "df_disney_movies.describe()"
   ]
  },
  {
   "cell_type": "code",
   "execution_count": 16,
   "metadata": {
    "execution": {
     "iopub.execute_input": "2025-07-18T21:08:54.998065Z",
     "iopub.status.busy": "2025-07-18T21:08:54.997734Z",
     "iopub.status.idle": "2025-07-18T21:08:55.004790Z",
     "shell.execute_reply": "2025-07-18T21:08:55.003387Z",
     "shell.execute_reply.started": "2025-07-18T21:08:54.998040Z"
    }
   },
   "outputs": [],
   "source": [
    "# TV Show\n",
    "df_disney_shows = df_disney_cleaning[df_disney_cleaning['type']=='TV Show']"
   ]
  },
  {
   "cell_type": "code",
   "execution_count": 17,
   "metadata": {
    "execution": {
     "iopub.execute_input": "2025-07-18T21:08:56.170926Z",
     "iopub.status.busy": "2025-07-18T21:08:56.170560Z",
     "iopub.status.idle": "2025-07-18T21:08:56.178517Z",
     "shell.execute_reply": "2025-07-18T21:08:56.177501Z",
     "shell.execute_reply.started": "2025-07-18T21:08:56.170903Z"
    }
   },
   "outputs": [
    {
     "data": {
      "text/plain": [
       "(398, 12)"
      ]
     },
     "execution_count": 17,
     "metadata": {},
     "output_type": "execute_result"
    }
   ],
   "source": [
    "df_disney_shows.shape"
   ]
  },
  {
   "cell_type": "markdown",
   "metadata": {},
   "source": [
    "### Movies"
   ]
  },
  {
   "cell_type": "markdown",
   "metadata": {},
   "source": [
    "4. Split column \"duration\""
   ]
  },
  {
   "cell_type": "code",
   "execution_count": 18,
   "metadata": {
    "execution": {
     "iopub.execute_input": "2025-07-18T21:09:03.831528Z",
     "iopub.status.busy": "2025-07-18T21:09:03.831182Z",
     "iopub.status.idle": "2025-07-18T21:09:03.837349Z",
     "shell.execute_reply": "2025-07-18T21:09:03.836238Z",
     "shell.execute_reply.started": "2025-07-18T21:09:03.831500Z"
    }
   },
   "outputs": [],
   "source": [
    "df_disney_movies_cleaning = df_disney_movies.copy()"
   ]
  },
  {
   "cell_type": "code",
   "execution_count": 19,
   "metadata": {
    "execution": {
     "iopub.execute_input": "2025-07-18T21:09:05.833487Z",
     "iopub.status.busy": "2025-07-18T21:09:05.833140Z",
     "iopub.status.idle": "2025-07-18T21:09:05.840677Z",
     "shell.execute_reply": "2025-07-18T21:09:05.839603Z",
     "shell.execute_reply.started": "2025-07-18T21:09:05.833461Z"
    }
   },
   "outputs": [],
   "source": [
    "df_disney_movies_cleaning['duration'] = df_disney_movies_cleaning['duration'].str.replace(' min', '')"
   ]
  },
  {
   "cell_type": "code",
   "execution_count": 20,
   "metadata": {
    "execution": {
     "iopub.execute_input": "2025-07-18T21:09:06.232233Z",
     "iopub.status.busy": "2025-07-18T21:09:06.231885Z",
     "iopub.status.idle": "2025-07-18T21:09:06.248602Z",
     "shell.execute_reply": "2025-07-18T21:09:06.247423Z",
     "shell.execute_reply.started": "2025-07-18T21:09:06.232210Z"
    }
   },
   "outputs": [
    {
     "data": {
      "text/html": [
       "<div>\n",
       "<style scoped>\n",
       "    .dataframe tbody tr th:only-of-type {\n",
       "        vertical-align: middle;\n",
       "    }\n",
       "\n",
       "    .dataframe tbody tr th {\n",
       "        vertical-align: top;\n",
       "    }\n",
       "\n",
       "    .dataframe thead th {\n",
       "        text-align: right;\n",
       "    }\n",
       "</style>\n",
       "<table border=\"1\" class=\"dataframe\">\n",
       "  <thead>\n",
       "    <tr style=\"text-align: right;\">\n",
       "      <th></th>\n",
       "      <th>show_id</th>\n",
       "      <th>type</th>\n",
       "      <th>title</th>\n",
       "      <th>director</th>\n",
       "      <th>cast</th>\n",
       "      <th>country</th>\n",
       "      <th>date_added</th>\n",
       "      <th>release_year</th>\n",
       "      <th>rating</th>\n",
       "      <th>duration</th>\n",
       "      <th>gender</th>\n",
       "      <th>description</th>\n",
       "    </tr>\n",
       "  </thead>\n",
       "  <tbody>\n",
       "    <tr>\n",
       "      <th>0</th>\n",
       "      <td>s1</td>\n",
       "      <td>Movie</td>\n",
       "      <td>Duck the Halls: A Mickey Mouse Christmas Special</td>\n",
       "      <td>Alonso Ramirez Ramos, Dave Wasson</td>\n",
       "      <td>Chris Diamantopoulos, Tony Anselmo, Tress MacN...</td>\n",
       "      <td>No information</td>\n",
       "      <td>November 26, 2021</td>\n",
       "      <td>2016</td>\n",
       "      <td>TV-G</td>\n",
       "      <td>23</td>\n",
       "      <td>Animation, Family</td>\n",
       "      <td>Join Mickey and the gang as they duck the halls!</td>\n",
       "    </tr>\n",
       "    <tr>\n",
       "      <th>1</th>\n",
       "      <td>s2</td>\n",
       "      <td>Movie</td>\n",
       "      <td>Ernest Saves Christmas</td>\n",
       "      <td>John Cherry</td>\n",
       "      <td>Jim Varney, Noelle Parker, Douglas Seale</td>\n",
       "      <td>No information</td>\n",
       "      <td>November 26, 2021</td>\n",
       "      <td>1988</td>\n",
       "      <td>PG</td>\n",
       "      <td>91</td>\n",
       "      <td>Comedy</td>\n",
       "      <td>Santa Claus passes his magic bag to a new St. ...</td>\n",
       "    </tr>\n",
       "  </tbody>\n",
       "</table>\n",
       "</div>"
      ],
      "text/plain": [
       "  show_id   type                                             title  \\\n",
       "0      s1  Movie  Duck the Halls: A Mickey Mouse Christmas Special   \n",
       "1      s2  Movie                            Ernest Saves Christmas   \n",
       "\n",
       "                            director  \\\n",
       "0  Alonso Ramirez Ramos, Dave Wasson   \n",
       "1                        John Cherry   \n",
       "\n",
       "                                                cast         country  \\\n",
       "0  Chris Diamantopoulos, Tony Anselmo, Tress MacN...  No information   \n",
       "1           Jim Varney, Noelle Parker, Douglas Seale  No information   \n",
       "\n",
       "          date_added  release_year rating duration             gender  \\\n",
       "0  November 26, 2021          2016   TV-G       23  Animation, Family   \n",
       "1  November 26, 2021          1988     PG       91             Comedy   \n",
       "\n",
       "                                         description  \n",
       "0   Join Mickey and the gang as they duck the halls!  \n",
       "1  Santa Claus passes his magic bag to a new St. ...  "
      ]
     },
     "execution_count": 20,
     "metadata": {},
     "output_type": "execute_result"
    }
   ],
   "source": [
    "df_disney_movies_cleaning.head(2)"
   ]
  },
  {
   "cell_type": "markdown",
   "metadata": {},
   "source": [
    "5. Change type from \"date_added\" > datetime; \"duration\" > float;"
   ]
  },
  {
   "cell_type": "code",
   "execution_count": 21,
   "metadata": {
    "execution": {
     "iopub.execute_input": "2025-07-18T21:09:10.163331Z",
     "iopub.status.busy": "2025-07-18T21:09:10.162957Z",
     "iopub.status.idle": "2025-07-18T21:09:10.169638Z",
     "shell.execute_reply": "2025-07-18T21:09:10.168398Z",
     "shell.execute_reply.started": "2025-07-18T21:09:10.163304Z"
    }
   },
   "outputs": [],
   "source": [
    "df_disney_movies_cleaning['duration']= df_disney_movies_cleaning['duration'].astype(float)"
   ]
  },
  {
   "cell_type": "code",
   "execution_count": 22,
   "metadata": {
    "execution": {
     "iopub.execute_input": "2025-07-18T21:09:10.604645Z",
     "iopub.status.busy": "2025-07-18T21:09:10.604266Z",
     "iopub.status.idle": "2025-07-18T21:09:10.618279Z",
     "shell.execute_reply": "2025-07-18T21:09:10.616689Z",
     "shell.execute_reply.started": "2025-07-18T21:09:10.604610Z"
    }
   },
   "outputs": [],
   "source": [
    "df_disney_movies_cleaning['date_added'] = pd.to_datetime(df_disney_movies_cleaning['date_added'])"
   ]
  },
  {
   "cell_type": "code",
   "execution_count": 23,
   "metadata": {
    "execution": {
     "iopub.execute_input": "2025-07-18T21:09:12.965365Z",
     "iopub.status.busy": "2025-07-18T21:09:12.965070Z",
     "iopub.status.idle": "2025-07-18T21:09:12.971114Z",
     "shell.execute_reply": "2025-07-18T21:09:12.969998Z",
     "shell.execute_reply.started": "2025-07-18T21:09:12.965346Z"
    }
   },
   "outputs": [],
   "source": [
    "# Removing hours\n",
    "df_disney_movies_cleaning['date_added'] = df_disney_movies_cleaning['date_added'].dt.date"
   ]
  },
  {
   "cell_type": "code",
   "execution_count": 24,
   "metadata": {
    "execution": {
     "iopub.execute_input": "2025-07-18T21:09:13.448383Z",
     "iopub.status.busy": "2025-07-18T21:09:13.447484Z",
     "iopub.status.idle": "2025-07-18T21:09:13.466848Z",
     "shell.execute_reply": "2025-07-18T21:09:13.465755Z",
     "shell.execute_reply.started": "2025-07-18T21:09:13.448345Z"
    }
   },
   "outputs": [
    {
     "data": {
      "text/html": [
       "<div>\n",
       "<style scoped>\n",
       "    .dataframe tbody tr th:only-of-type {\n",
       "        vertical-align: middle;\n",
       "    }\n",
       "\n",
       "    .dataframe tbody tr th {\n",
       "        vertical-align: top;\n",
       "    }\n",
       "\n",
       "    .dataframe thead th {\n",
       "        text-align: right;\n",
       "    }\n",
       "</style>\n",
       "<table border=\"1\" class=\"dataframe\">\n",
       "  <thead>\n",
       "    <tr style=\"text-align: right;\">\n",
       "      <th></th>\n",
       "      <th>release_year</th>\n",
       "      <th>duration</th>\n",
       "    </tr>\n",
       "  </thead>\n",
       "  <tbody>\n",
       "    <tr>\n",
       "      <th>count</th>\n",
       "      <td>1052.000000</td>\n",
       "      <td>1052.000000</td>\n",
       "    </tr>\n",
       "    <tr>\n",
       "      <th>mean</th>\n",
       "      <td>1999.230989</td>\n",
       "      <td>71.910646</td>\n",
       "    </tr>\n",
       "    <tr>\n",
       "      <th>std</th>\n",
       "      <td>23.858584</td>\n",
       "      <td>40.595585</td>\n",
       "    </tr>\n",
       "    <tr>\n",
       "      <th>min</th>\n",
       "      <td>1928.000000</td>\n",
       "      <td>1.000000</td>\n",
       "    </tr>\n",
       "    <tr>\n",
       "      <th>25%</th>\n",
       "      <td>1994.000000</td>\n",
       "      <td>44.000000</td>\n",
       "    </tr>\n",
       "    <tr>\n",
       "      <th>50%</th>\n",
       "      <td>2008.000000</td>\n",
       "      <td>85.000000</td>\n",
       "    </tr>\n",
       "    <tr>\n",
       "      <th>75%</th>\n",
       "      <td>2017.000000</td>\n",
       "      <td>98.000000</td>\n",
       "    </tr>\n",
       "    <tr>\n",
       "      <th>max</th>\n",
       "      <td>2021.000000</td>\n",
       "      <td>183.000000</td>\n",
       "    </tr>\n",
       "  </tbody>\n",
       "</table>\n",
       "</div>"
      ],
      "text/plain": [
       "       release_year     duration\n",
       "count   1052.000000  1052.000000\n",
       "mean    1999.230989    71.910646\n",
       "std       23.858584    40.595585\n",
       "min     1928.000000     1.000000\n",
       "25%     1994.000000    44.000000\n",
       "50%     2008.000000    85.000000\n",
       "75%     2017.000000    98.000000\n",
       "max     2021.000000   183.000000"
      ]
     },
     "execution_count": 24,
     "metadata": {},
     "output_type": "execute_result"
    }
   ],
   "source": [
    "df_disney_movies_cleaning.describe()"
   ]
  },
  {
   "cell_type": "code",
   "execution_count": 25,
   "metadata": {
    "execution": {
     "iopub.execute_input": "2025-07-18T21:09:27.030014Z",
     "iopub.status.busy": "2025-07-18T21:09:27.029559Z",
     "iopub.status.idle": "2025-07-18T21:09:27.043732Z",
     "shell.execute_reply": "2025-07-18T21:09:27.042660Z",
     "shell.execute_reply.started": "2025-07-18T21:09:27.029980Z"
    }
   },
   "outputs": [
    {
     "name": "stdout",
     "output_type": "stream",
     "text": [
      "<class 'pandas.core.frame.DataFrame'>\n",
      "Index: 1052 entries, 0 to 1449\n",
      "Data columns (total 12 columns):\n",
      " #   Column        Non-Null Count  Dtype  \n",
      "---  ------        --------------  -----  \n",
      " 0   show_id       1052 non-null   object \n",
      " 1   type          1052 non-null   object \n",
      " 2   title         1052 non-null   object \n",
      " 3   director      1052 non-null   object \n",
      " 4   cast          1052 non-null   object \n",
      " 5   country       1052 non-null   object \n",
      " 6   date_added    1052 non-null   object \n",
      " 7   release_year  1052 non-null   int64  \n",
      " 8   rating        1052 non-null   object \n",
      " 9   duration      1052 non-null   float64\n",
      " 10  gender        1052 non-null   object \n",
      " 11  description   1052 non-null   object \n",
      "dtypes: float64(1), int64(1), object(10)\n",
      "memory usage: 106.8+ KB\n"
     ]
    }
   ],
   "source": [
    "df_disney_movies_cleaning.info()"
   ]
  },
  {
   "cell_type": "code",
   "execution_count": 27,
   "metadata": {
    "execution": {
     "iopub.execute_input": "2025-07-18T21:10:52.715033Z",
     "iopub.status.busy": "2025-07-18T21:10:52.714375Z",
     "iopub.status.idle": "2025-07-18T21:10:52.723434Z",
     "shell.execute_reply": "2025-07-18T21:10:52.721747Z",
     "shell.execute_reply.started": "2025-07-18T21:10:52.714990Z"
    }
   },
   "outputs": [],
   "source": [
    "# Clean data\n",
    "df_disney_movies_silver = df_disney_movies_cleaning.copy()"
   ]
  },
  {
   "cell_type": "markdown",
   "metadata": {},
   "source": [
    "### TV Show"
   ]
  },
  {
   "cell_type": "code",
   "execution_count": 28,
   "metadata": {
    "execution": {
     "iopub.execute_input": "2025-07-18T21:10:56.906730Z",
     "iopub.status.busy": "2025-07-18T21:10:56.906375Z",
     "iopub.status.idle": "2025-07-18T21:10:56.912483Z",
     "shell.execute_reply": "2025-07-18T21:10:56.911379Z",
     "shell.execute_reply.started": "2025-07-18T21:10:56.906706Z"
    }
   },
   "outputs": [],
   "source": [
    "df_disney_shows_cleaning = df_disney_shows.copy()"
   ]
  },
  {
   "cell_type": "markdown",
   "metadata": {},
   "source": [
    "4. Split column 'duration'"
   ]
  },
  {
   "cell_type": "code",
   "execution_count": 29,
   "metadata": {
    "execution": {
     "iopub.execute_input": "2025-07-18T21:11:00.584502Z",
     "iopub.status.busy": "2025-07-18T21:11:00.584142Z",
     "iopub.status.idle": "2025-07-18T21:11:00.598182Z",
     "shell.execute_reply": "2025-07-18T21:11:00.596842Z",
     "shell.execute_reply.started": "2025-07-18T21:11:00.584478Z"
    }
   },
   "outputs": [
    {
     "name": "stdout",
     "output_type": "stream",
     "text": [
      "<class 'pandas.core.frame.DataFrame'>\n",
      "Index: 398 entries, 4 to 1441\n",
      "Data columns (total 12 columns):\n",
      " #   Column        Non-Null Count  Dtype \n",
      "---  ------        --------------  ----- \n",
      " 0   show_id       398 non-null    object\n",
      " 1   type          398 non-null    object\n",
      " 2   title         398 non-null    object\n",
      " 3   director      398 non-null    object\n",
      " 4   cast          398 non-null    object\n",
      " 5   country       398 non-null    object\n",
      " 6   date_added    398 non-null    object\n",
      " 7   release_year  398 non-null    int64 \n",
      " 8   rating        398 non-null    object\n",
      " 9   duration      398 non-null    object\n",
      " 10  gender        398 non-null    object\n",
      " 11  description   398 non-null    object\n",
      "dtypes: int64(1), object(11)\n",
      "memory usage: 40.4+ KB\n"
     ]
    }
   ],
   "source": [
    "df_disney_shows_cleaning.info()"
   ]
  },
  {
   "cell_type": "code",
   "execution_count": 30,
   "metadata": {
    "execution": {
     "iopub.execute_input": "2025-07-18T21:11:04.876279Z",
     "iopub.status.busy": "2025-07-18T21:11:04.875925Z",
     "iopub.status.idle": "2025-07-18T21:11:04.885008Z",
     "shell.execute_reply": "2025-07-18T21:11:04.884076Z",
     "shell.execute_reply.started": "2025-07-18T21:11:04.876254Z"
    }
   },
   "outputs": [
    {
     "data": {
      "text/plain": [
       "4         1 Season\n",
       "6         1 Season\n",
       "7        2 Seasons\n",
       "8        2 Seasons\n",
       "13      10 Seasons\n",
       "           ...    \n",
       "1417     4 Seasons\n",
       "1434     3 Seasons\n",
       "1439     3 Seasons\n",
       "1440     2 Seasons\n",
       "1441     3 Seasons\n",
       "Name: duration, Length: 398, dtype: object"
      ]
     },
     "execution_count": 30,
     "metadata": {},
     "output_type": "execute_result"
    }
   ],
   "source": [
    "df_disney_shows_cleaning['duration']"
   ]
  },
  {
   "cell_type": "code",
   "execution_count": 31,
   "metadata": {
    "execution": {
     "iopub.execute_input": "2025-07-18T21:11:08.225562Z",
     "iopub.status.busy": "2025-07-18T21:11:08.225183Z",
     "iopub.status.idle": "2025-07-18T21:11:08.233702Z",
     "shell.execute_reply": "2025-07-18T21:11:08.232417Z",
     "shell.execute_reply.started": "2025-07-18T21:11:08.225538Z"
    }
   },
   "outputs": [],
   "source": [
    "df_disney_shows_cleaning['duration'] = df_disney_shows_cleaning['duration'].str.replace(' Seasons', '')\n",
    "df_disney_shows_cleaning['duration'] = df_disney_shows_cleaning['duration'].str.replace(' Season', '')"
   ]
  },
  {
   "cell_type": "markdown",
   "metadata": {},
   "source": [
    "5. Change type from \"date_added\" > datetime; \"duration\" > float;"
   ]
  },
  {
   "cell_type": "code",
   "execution_count": 32,
   "metadata": {
    "execution": {
     "iopub.execute_input": "2025-07-18T21:11:13.778379Z",
     "iopub.status.busy": "2025-07-18T21:11:13.777950Z",
     "iopub.status.idle": "2025-07-18T21:11:13.788209Z",
     "shell.execute_reply": "2025-07-18T21:11:13.786334Z",
     "shell.execute_reply.started": "2025-07-18T21:11:13.778354Z"
    }
   },
   "outputs": [],
   "source": [
    "df_disney_shows_cleaning['date_added'] = pd.to_datetime(df_disney_shows_cleaning['date_added'], errors='coerce')"
   ]
  },
  {
   "cell_type": "code",
   "execution_count": 33,
   "metadata": {
    "execution": {
     "iopub.execute_input": "2025-07-18T21:11:14.348524Z",
     "iopub.status.busy": "2025-07-18T21:11:14.347685Z",
     "iopub.status.idle": "2025-07-18T21:11:14.354294Z",
     "shell.execute_reply": "2025-07-18T21:11:14.353198Z",
     "shell.execute_reply.started": "2025-07-18T21:11:14.348493Z"
    }
   },
   "outputs": [],
   "source": [
    "df_disney_shows_cleaning['date_added'] = df_disney_shows_cleaning['date_added'].dt.date"
   ]
  },
  {
   "cell_type": "code",
   "execution_count": 34,
   "metadata": {
    "execution": {
     "iopub.execute_input": "2025-07-18T21:11:14.824224Z",
     "iopub.status.busy": "2025-07-18T21:11:14.823838Z",
     "iopub.status.idle": "2025-07-18T21:11:14.830461Z",
     "shell.execute_reply": "2025-07-18T21:11:14.829187Z",
     "shell.execute_reply.started": "2025-07-18T21:11:14.824198Z"
    }
   },
   "outputs": [],
   "source": [
    "df_disney_shows_cleaning['duration'] = df_disney_shows_cleaning['duration'].astype(float)"
   ]
  },
  {
   "cell_type": "code",
   "execution_count": 35,
   "metadata": {
    "execution": {
     "iopub.execute_input": "2025-07-18T21:11:16.475764Z",
     "iopub.status.busy": "2025-07-18T21:11:16.475305Z",
     "iopub.status.idle": "2025-07-18T21:11:16.492228Z",
     "shell.execute_reply": "2025-07-18T21:11:16.491308Z",
     "shell.execute_reply.started": "2025-07-18T21:11:16.475739Z"
    }
   },
   "outputs": [
    {
     "data": {
      "text/html": [
       "<div>\n",
       "<style scoped>\n",
       "    .dataframe tbody tr th:only-of-type {\n",
       "        vertical-align: middle;\n",
       "    }\n",
       "\n",
       "    .dataframe tbody tr th {\n",
       "        vertical-align: top;\n",
       "    }\n",
       "\n",
       "    .dataframe thead th {\n",
       "        text-align: right;\n",
       "    }\n",
       "</style>\n",
       "<table border=\"1\" class=\"dataframe\">\n",
       "  <thead>\n",
       "    <tr style=\"text-align: right;\">\n",
       "      <th></th>\n",
       "      <th>release_year</th>\n",
       "      <th>duration</th>\n",
       "    </tr>\n",
       "  </thead>\n",
       "  <tbody>\n",
       "    <tr>\n",
       "      <th>count</th>\n",
       "      <td>398.000000</td>\n",
       "      <td>398.000000</td>\n",
       "    </tr>\n",
       "    <tr>\n",
       "      <th>mean</th>\n",
       "      <td>2013.296482</td>\n",
       "      <td>2.118090</td>\n",
       "    </tr>\n",
       "    <tr>\n",
       "      <th>std</th>\n",
       "      <td>9.659051</td>\n",
       "      <td>2.411898</td>\n",
       "    </tr>\n",
       "    <tr>\n",
       "      <th>min</th>\n",
       "      <td>1955.000000</td>\n",
       "      <td>1.000000</td>\n",
       "    </tr>\n",
       "    <tr>\n",
       "      <th>25%</th>\n",
       "      <td>2011.000000</td>\n",
       "      <td>1.000000</td>\n",
       "    </tr>\n",
       "    <tr>\n",
       "      <th>50%</th>\n",
       "      <td>2017.000000</td>\n",
       "      <td>1.000000</td>\n",
       "    </tr>\n",
       "    <tr>\n",
       "      <th>75%</th>\n",
       "      <td>2019.000000</td>\n",
       "      <td>2.000000</td>\n",
       "    </tr>\n",
       "    <tr>\n",
       "      <th>max</th>\n",
       "      <td>2021.000000</td>\n",
       "      <td>32.000000</td>\n",
       "    </tr>\n",
       "  </tbody>\n",
       "</table>\n",
       "</div>"
      ],
      "text/plain": [
       "       release_year    duration\n",
       "count    398.000000  398.000000\n",
       "mean    2013.296482    2.118090\n",
       "std        9.659051    2.411898\n",
       "min     1955.000000    1.000000\n",
       "25%     2011.000000    1.000000\n",
       "50%     2017.000000    1.000000\n",
       "75%     2019.000000    2.000000\n",
       "max     2021.000000   32.000000"
      ]
     },
     "execution_count": 35,
     "metadata": {},
     "output_type": "execute_result"
    }
   ],
   "source": [
    "df_disney_shows_cleaning.describe()"
   ]
  },
  {
   "cell_type": "code",
   "execution_count": 37,
   "metadata": {
    "execution": {
     "iopub.execute_input": "2025-07-18T21:13:00.430133Z",
     "iopub.status.busy": "2025-07-18T21:13:00.429765Z",
     "iopub.status.idle": "2025-07-18T21:13:00.437113Z",
     "shell.execute_reply": "2025-07-18T21:13:00.435841Z",
     "shell.execute_reply.started": "2025-07-18T21:13:00.430107Z"
    }
   },
   "outputs": [],
   "source": [
    "# Salve data\n",
    "df_disney_shows_silver = df_disney_shows_cleaning.copy()"
   ]
  },
  {
   "cell_type": "code",
   "execution_count": 38,
   "metadata": {
    "execution": {
     "iopub.execute_input": "2025-07-18T21:13:03.553317Z",
     "iopub.status.busy": "2025-07-18T21:13:03.552947Z",
     "iopub.status.idle": "2025-07-18T21:13:03.559789Z",
     "shell.execute_reply": "2025-07-18T21:13:03.558520Z",
     "shell.execute_reply.started": "2025-07-18T21:13:03.553283Z"
    }
   },
   "outputs": [],
   "source": [
    "df_disney_all = df_disney_cleaning.copy()"
   ]
  },
  {
   "cell_type": "markdown",
   "metadata": {},
   "source": [
    "## Analysis\n",
    "\n",
    "Datasets:\n",
    "\n",
    "* df_disney_raw = Without cleaning\n",
    "* df_disney_all = All informations together\n",
    "* df_disney_shows_silver = Informations about TV Shows\n",
    "* df_disney_movies_silver = Informations about Movies"
   ]
  },
  {
   "cell_type": "markdown",
   "metadata": {},
   "source": [
    "### Disney Movies"
   ]
  },
  {
   "cell_type": "code",
   "execution_count": 39,
   "metadata": {
    "execution": {
     "iopub.execute_input": "2025-07-18T21:13:38.980433Z",
     "iopub.status.busy": "2025-07-18T21:13:38.980086Z",
     "iopub.status.idle": "2025-07-18T21:13:38.999266Z",
     "shell.execute_reply": "2025-07-18T21:13:38.998230Z",
     "shell.execute_reply.started": "2025-07-18T21:13:38.980410Z"
    }
   },
   "outputs": [
    {
     "data": {
      "text/html": [
       "<div>\n",
       "<style scoped>\n",
       "    .dataframe tbody tr th:only-of-type {\n",
       "        vertical-align: middle;\n",
       "    }\n",
       "\n",
       "    .dataframe tbody tr th {\n",
       "        vertical-align: top;\n",
       "    }\n",
       "\n",
       "    .dataframe thead th {\n",
       "        text-align: right;\n",
       "    }\n",
       "</style>\n",
       "<table border=\"1\" class=\"dataframe\">\n",
       "  <thead>\n",
       "    <tr style=\"text-align: right;\">\n",
       "      <th></th>\n",
       "      <th>release_year</th>\n",
       "      <th>duration</th>\n",
       "    </tr>\n",
       "  </thead>\n",
       "  <tbody>\n",
       "    <tr>\n",
       "      <th>count</th>\n",
       "      <td>1052.000000</td>\n",
       "      <td>1052.000000</td>\n",
       "    </tr>\n",
       "    <tr>\n",
       "      <th>mean</th>\n",
       "      <td>1999.230989</td>\n",
       "      <td>71.910646</td>\n",
       "    </tr>\n",
       "    <tr>\n",
       "      <th>std</th>\n",
       "      <td>23.858584</td>\n",
       "      <td>40.595585</td>\n",
       "    </tr>\n",
       "    <tr>\n",
       "      <th>min</th>\n",
       "      <td>1928.000000</td>\n",
       "      <td>1.000000</td>\n",
       "    </tr>\n",
       "    <tr>\n",
       "      <th>25%</th>\n",
       "      <td>1994.000000</td>\n",
       "      <td>44.000000</td>\n",
       "    </tr>\n",
       "    <tr>\n",
       "      <th>50%</th>\n",
       "      <td>2008.000000</td>\n",
       "      <td>85.000000</td>\n",
       "    </tr>\n",
       "    <tr>\n",
       "      <th>75%</th>\n",
       "      <td>2017.000000</td>\n",
       "      <td>98.000000</td>\n",
       "    </tr>\n",
       "    <tr>\n",
       "      <th>max</th>\n",
       "      <td>2021.000000</td>\n",
       "      <td>183.000000</td>\n",
       "    </tr>\n",
       "  </tbody>\n",
       "</table>\n",
       "</div>"
      ],
      "text/plain": [
       "       release_year     duration\n",
       "count   1052.000000  1052.000000\n",
       "mean    1999.230989    71.910646\n",
       "std       23.858584    40.595585\n",
       "min     1928.000000     1.000000\n",
       "25%     1994.000000    44.000000\n",
       "50%     2008.000000    85.000000\n",
       "75%     2017.000000    98.000000\n",
       "max     2021.000000   183.000000"
      ]
     },
     "execution_count": 39,
     "metadata": {},
     "output_type": "execute_result"
    }
   ],
   "source": [
    "df_disney_movies_silver.describe()"
   ]
  },
  {
   "cell_type": "code",
   "execution_count": 40,
   "metadata": {
    "execution": {
     "iopub.execute_input": "2025-07-18T21:14:00.010519Z",
     "iopub.status.busy": "2025-07-18T21:14:00.010179Z",
     "iopub.status.idle": "2025-07-18T21:14:00.018861Z",
     "shell.execute_reply": "2025-07-18T21:14:00.017236Z",
     "shell.execute_reply.started": "2025-07-18T21:14:00.010496Z"
    }
   },
   "outputs": [
    {
     "name": "stdout",
     "output_type": "stream",
     "text": [
      "Mean: 71.91\n",
      "Median: 85.0\n",
      "Standard Deviation: 40.60\n",
      "Variance: 1648.00\n"
     ]
    }
   ],
   "source": [
    "print(f\"Mean: {df_disney_movies_silver['duration'].mean():.2f}\") \n",
    "print(f\"Median: {df_disney_movies_silver['duration'].median()}\") \n",
    "print(f\"Standard Deviation: {df_disney_movies_silver['duration'].std():.2f}\") \n",
    "print(f\"Variance: {df_disney_movies_silver['duration'].var():.2f}\")"
   ]
  },
  {
   "cell_type": "code",
   "execution_count": 46,
   "metadata": {
    "execution": {
     "iopub.execute_input": "2025-07-18T21:15:08.137654Z",
     "iopub.status.busy": "2025-07-18T21:15:08.137272Z",
     "iopub.status.idle": "2025-07-18T21:15:08.149771Z",
     "shell.execute_reply": "2025-07-18T21:15:08.148398Z",
     "shell.execute_reply.started": "2025-07-18T21:15:08.137622Z"
    }
   },
   "outputs": [
    {
     "data": {
      "text/plain": [
       "0.25    44.0\n",
       "0.50    85.0\n",
       "0.75    98.0\n",
       "Name: duration, dtype: float64"
      ]
     },
     "execution_count": 46,
     "metadata": {},
     "output_type": "execute_result"
    }
   ],
   "source": [
    "# Quartis\n",
    "df_disney_movies_silver['duration'].quantile([0.25, 0.5, 0.75])"
   ]
  },
  {
   "cell_type": "code",
   "execution_count": 47,
   "metadata": {
    "execution": {
     "iopub.execute_input": "2025-07-18T21:15:17.463267Z",
     "iopub.status.busy": "2025-07-18T21:15:17.462907Z",
     "iopub.status.idle": "2025-07-18T21:15:17.470054Z",
     "shell.execute_reply": "2025-07-18T21:15:17.468526Z",
     "shell.execute_reply.started": "2025-07-18T21:15:17.463243Z"
    }
   },
   "outputs": [
    {
     "name": "stdout",
     "output_type": "stream",
     "text": [
      "Min Duration: 1.00\n",
      "Max Duration: 183.00\n"
     ]
    }
   ],
   "source": [
    "# Min e Max duration\n",
    "min_duration = df_disney_movies_silver['duration'].min()\n",
    "max_duration = df_disney_movies_silver['duration'].max()\n",
    "\n",
    "print(f\"Min Duration: {min_duration:.2f}\")\n",
    "print(f\"Max Duration: {max_duration:.2f}\")"
   ]
  },
  {
   "cell_type": "code",
   "execution_count": 48,
   "metadata": {
    "execution": {
     "iopub.execute_input": "2025-07-18T21:15:38.030365Z",
     "iopub.status.busy": "2025-07-18T21:15:38.030060Z",
     "iopub.status.idle": "2025-07-18T21:15:38.039874Z",
     "shell.execute_reply": "2025-07-18T21:15:38.038559Z",
     "shell.execute_reply.started": "2025-07-18T21:15:38.030343Z"
    }
   },
   "outputs": [
    {
     "name": "stdout",
     "output_type": "stream",
     "text": [
      "Filme com a menor duração: Baymax!\n",
      "Filme com a maior duração: Marvel Studios' Avengers: Endgame\n"
     ]
    }
   ],
   "source": [
    "movie_min = df_disney_movies_silver[df_disney_movies_silver['duration'] == min_duration]\n",
    "movie_max = df_disney_movies_silver[df_disney_movies_silver['duration'] == max_duration]\n",
    "\n",
    "print(f\"Filme com a menor duração: {movie_min['title'].values[0]}\")\n",
    "print(f\"Filme com a maior duração: {movie_max['title'].values[0]}\")"
   ]
  },
  {
   "cell_type": "code",
   "execution_count": 44,
   "metadata": {
    "execution": {
     "iopub.execute_input": "2025-07-18T21:14:35.069914Z",
     "iopub.status.busy": "2025-07-18T21:14:35.069563Z",
     "iopub.status.idle": "2025-07-18T21:14:35.084387Z",
     "shell.execute_reply": "2025-07-18T21:14:35.083233Z",
     "shell.execute_reply.started": "2025-07-18T21:14:35.069893Z"
    }
   },
   "outputs": [
    {
     "data": {
      "text/html": [
       "<div>\n",
       "<style scoped>\n",
       "    .dataframe tbody tr th:only-of-type {\n",
       "        vertical-align: middle;\n",
       "    }\n",
       "\n",
       "    .dataframe tbody tr th {\n",
       "        vertical-align: top;\n",
       "    }\n",
       "\n",
       "    .dataframe thead th {\n",
       "        text-align: right;\n",
       "    }\n",
       "</style>\n",
       "<table border=\"1\" class=\"dataframe\">\n",
       "  <thead>\n",
       "    <tr style=\"text-align: right;\">\n",
       "      <th></th>\n",
       "      <th>show_id</th>\n",
       "      <th>type</th>\n",
       "      <th>title</th>\n",
       "      <th>director</th>\n",
       "      <th>cast</th>\n",
       "      <th>country</th>\n",
       "      <th>date_added</th>\n",
       "      <th>release_year</th>\n",
       "      <th>rating</th>\n",
       "      <th>duration</th>\n",
       "      <th>gender</th>\n",
       "      <th>description</th>\n",
       "    </tr>\n",
       "  </thead>\n",
       "  <tbody>\n",
       "    <tr>\n",
       "      <th>15</th>\n",
       "      <td>s16</td>\n",
       "      <td>Movie</td>\n",
       "      <td>Baymax!</td>\n",
       "      <td>No information</td>\n",
       "      <td>No information</td>\n",
       "      <td>No information</td>\n",
       "      <td>2021-11-12</td>\n",
       "      <td>2021</td>\n",
       "      <td>TV-G</td>\n",
       "      <td>1.0</td>\n",
       "      <td>Animation</td>\n",
       "      <td>“Baymax!” premieres on Disney+ summer 2022.</td>\n",
       "    </tr>\n",
       "    <tr>\n",
       "      <th>27</th>\n",
       "      <td>s28</td>\n",
       "      <td>Movie</td>\n",
       "      <td>Obi-Wan Kenobi</td>\n",
       "      <td>No information</td>\n",
       "      <td>No information</td>\n",
       "      <td>No information</td>\n",
       "      <td>2021-11-12</td>\n",
       "      <td>2021</td>\n",
       "      <td>TV-PG</td>\n",
       "      <td>1.0</td>\n",
       "      <td>Action-Adventure, Science Fiction</td>\n",
       "      <td>A behind the scenes look of the \"Obi-Wan Kenob...</td>\n",
       "    </tr>\n",
       "    <tr>\n",
       "      <th>37</th>\n",
       "      <td>s38</td>\n",
       "      <td>Movie</td>\n",
       "      <td>The Proud Family: Louder and Prouder</td>\n",
       "      <td>No information</td>\n",
       "      <td>Kyla Pratt, Tommy Davidson, Paula Jai Parker, ...</td>\n",
       "      <td>No information</td>\n",
       "      <td>2021-11-12</td>\n",
       "      <td>2021</td>\n",
       "      <td>TV-G</td>\n",
       "      <td>1.0</td>\n",
       "      <td>Animation, Comedy, Coming of Age</td>\n",
       "      <td>\"The Proud Family: Louder and Prouder\" follows...</td>\n",
       "    </tr>\n",
       "  </tbody>\n",
       "</table>\n",
       "</div>"
      ],
      "text/plain": [
       "   show_id   type                                 title        director  \\\n",
       "15     s16  Movie                               Baymax!  No information   \n",
       "27     s28  Movie                        Obi-Wan Kenobi  No information   \n",
       "37     s38  Movie  The Proud Family: Louder and Prouder  No information   \n",
       "\n",
       "                                                 cast         country  \\\n",
       "15                                     No information  No information   \n",
       "27                                     No information  No information   \n",
       "37  Kyla Pratt, Tommy Davidson, Paula Jai Parker, ...  No information   \n",
       "\n",
       "    date_added  release_year rating  duration  \\\n",
       "15  2021-11-12          2021   TV-G       1.0   \n",
       "27  2021-11-12          2021  TV-PG       1.0   \n",
       "37  2021-11-12          2021   TV-G       1.0   \n",
       "\n",
       "                               gender  \\\n",
       "15                          Animation   \n",
       "27  Action-Adventure, Science Fiction   \n",
       "37   Animation, Comedy, Coming of Age   \n",
       "\n",
       "                                          description  \n",
       "15        “Baymax!” premieres on Disney+ summer 2022.  \n",
       "27  A behind the scenes look of the \"Obi-Wan Kenob...  \n",
       "37  \"The Proud Family: Louder and Prouder\" follows...  "
      ]
     },
     "execution_count": 44,
     "metadata": {},
     "output_type": "execute_result"
    }
   ],
   "source": [
    "movie_min"
   ]
  },
  {
   "cell_type": "code",
   "execution_count": 45,
   "metadata": {
    "execution": {
     "iopub.execute_input": "2025-07-18T21:14:38.062678Z",
     "iopub.status.busy": "2025-07-18T21:14:38.062292Z",
     "iopub.status.idle": "2025-07-18T21:14:38.081192Z",
     "shell.execute_reply": "2025-07-18T21:14:38.079962Z",
     "shell.execute_reply.started": "2025-07-18T21:14:38.062654Z"
    }
   },
   "outputs": [
    {
     "data": {
      "text/html": [
       "<div>\n",
       "<style scoped>\n",
       "    .dataframe tbody tr th:only-of-type {\n",
       "        vertical-align: middle;\n",
       "    }\n",
       "\n",
       "    .dataframe tbody tr th {\n",
       "        vertical-align: top;\n",
       "    }\n",
       "\n",
       "    .dataframe thead th {\n",
       "        text-align: right;\n",
       "    }\n",
       "</style>\n",
       "<table border=\"1\" class=\"dataframe\">\n",
       "  <thead>\n",
       "    <tr style=\"text-align: right;\">\n",
       "      <th></th>\n",
       "      <th>show_id</th>\n",
       "      <th>type</th>\n",
       "      <th>title</th>\n",
       "      <th>director</th>\n",
       "      <th>cast</th>\n",
       "      <th>country</th>\n",
       "      <th>date_added</th>\n",
       "      <th>release_year</th>\n",
       "      <th>rating</th>\n",
       "      <th>duration</th>\n",
       "      <th>gender</th>\n",
       "      <th>description</th>\n",
       "    </tr>\n",
       "  </thead>\n",
       "  <tbody>\n",
       "    <tr>\n",
       "      <th>1039</th>\n",
       "      <td>s1040</td>\n",
       "      <td>Movie</td>\n",
       "      <td>Marvel Studios' Avengers: Endgame</td>\n",
       "      <td>Anthony Russo, Joe Russo</td>\n",
       "      <td>Robert Downey Jr., Chris Evans, Mark Ruffalo, ...</td>\n",
       "      <td>United States</td>\n",
       "      <td>2019-11-12</td>\n",
       "      <td>2019</td>\n",
       "      <td>PG-13</td>\n",
       "      <td>183.0</td>\n",
       "      <td>Action-Adventure, Fantasy, Science Fiction</td>\n",
       "      <td>The epic finale to the Infinity Saga, this dra...</td>\n",
       "    </tr>\n",
       "  </tbody>\n",
       "</table>\n",
       "</div>"
      ],
      "text/plain": [
       "     show_id   type                              title  \\\n",
       "1039   s1040  Movie  Marvel Studios' Avengers: Endgame   \n",
       "\n",
       "                      director  \\\n",
       "1039  Anthony Russo, Joe Russo   \n",
       "\n",
       "                                                   cast        country  \\\n",
       "1039  Robert Downey Jr., Chris Evans, Mark Ruffalo, ...  United States   \n",
       "\n",
       "      date_added  release_year rating  duration  \\\n",
       "1039  2019-11-12          2019  PG-13     183.0   \n",
       "\n",
       "                                          gender  \\\n",
       "1039  Action-Adventure, Fantasy, Science Fiction   \n",
       "\n",
       "                                            description  \n",
       "1039  The epic finale to the Infinity Saga, this dra...  "
      ]
     },
     "execution_count": 45,
     "metadata": {},
     "output_type": "execute_result"
    }
   ],
   "source": [
    "movie_max"
   ]
  },
  {
   "cell_type": "markdown",
   "metadata": {},
   "source": [
    "#### Outliers"
   ]
  },
  {
   "cell_type": "code",
   "execution_count": 49,
   "metadata": {
    "execution": {
     "iopub.execute_input": "2025-07-18T21:15:50.650728Z",
     "iopub.status.busy": "2025-07-18T21:15:50.649564Z",
     "iopub.status.idle": "2025-07-18T21:15:50.656833Z",
     "shell.execute_reply": "2025-07-18T21:15:50.655476Z",
     "shell.execute_reply.started": "2025-07-18T21:15:50.650680Z"
    }
   },
   "outputs": [],
   "source": [
    "movies_disney_outliers = df_disney_movies_silver.copy()"
   ]
  },
  {
   "cell_type": "code",
   "execution_count": 50,
   "metadata": {
    "execution": {
     "iopub.execute_input": "2025-07-18T21:16:11.432819Z",
     "iopub.status.busy": "2025-07-18T21:16:11.431750Z",
     "iopub.status.idle": "2025-07-18T21:16:11.441424Z",
     "shell.execute_reply": "2025-07-18T21:16:11.440473Z",
     "shell.execute_reply.started": "2025-07-18T21:16:11.432786Z"
    }
   },
   "outputs": [
    {
     "name": "stdout",
     "output_type": "stream",
     "text": [
      "Q1: 44.0 \n",
      "Q3: 98.0\n"
     ]
    }
   ],
   "source": [
    "q1 = movies_disney_outliers['duration'].quantile(0.25)\n",
    "q3 = movies_disney_outliers['duration'].quantile(0.75)\n",
    "\n",
    "print(f\"Q1: {q1} \\nQ3: {q3}\")"
   ]
  },
  {
   "cell_type": "code",
   "execution_count": 51,
   "metadata": {
    "execution": {
     "iopub.execute_input": "2025-07-18T21:16:13.605994Z",
     "iopub.status.busy": "2025-07-18T21:16:13.605687Z",
     "iopub.status.idle": "2025-07-18T21:16:13.611816Z",
     "shell.execute_reply": "2025-07-18T21:16:13.610623Z",
     "shell.execute_reply.started": "2025-07-18T21:16:13.605969Z"
    }
   },
   "outputs": [
    {
     "name": "stdout",
     "output_type": "stream",
     "text": [
      "IQR: 54.0\n"
     ]
    }
   ],
   "source": [
    "# IQR\n",
    "iqr = q3 - q1\n",
    "print(f\"IQR: {iqr}\")"
   ]
  },
  {
   "cell_type": "code",
   "execution_count": 52,
   "metadata": {
    "execution": {
     "iopub.execute_input": "2025-07-18T21:16:19.219013Z",
     "iopub.status.busy": "2025-07-18T21:16:19.218731Z",
     "iopub.status.idle": "2025-07-18T21:16:19.571679Z",
     "shell.execute_reply": "2025-07-18T21:16:19.570676Z",
     "shell.execute_reply.started": "2025-07-18T21:16:19.218995Z"
    }
   },
   "outputs": [
    {
     "data": {
      "text/plain": [
       "<Axes: >"
      ]
     },
     "execution_count": 52,
     "metadata": {},
     "output_type": "execute_result"
    },
    {
     "data": {
      "image/png": "[encoded data removed]",
      "text/plain": [
       "<Figure size 640x480 with 1 Axes>"
      ]
     },
     "metadata": {},
     "output_type": "display_data"
    }
   ],
   "source": [
    "# Boxplot\n",
    "sns.boxplot(movies_disney_outliers['duration'])"
   ]
  },
  {
   "cell_type": "code",
   "execution_count": 55,
   "metadata": {
    "execution": {
     "iopub.execute_input": "2025-07-18T21:16:40.655797Z",
     "iopub.status.busy": "2025-07-18T21:16:40.655415Z",
     "iopub.status.idle": "2025-07-18T21:16:40.662891Z",
     "shell.execute_reply": "2025-07-18T21:16:40.661522Z",
     "shell.execute_reply.started": "2025-07-18T21:16:40.655770Z"
    }
   },
   "outputs": [],
   "source": [
    "# IQR Outliers\n",
    "outliers_iqr = movies_disney_outliers[(movies_disney_outliers['duration'] < (q1 - 1.5 * iqr)) | (movies_disney_outliers['duration'] > (q3 + 1.5 * iqr))]"
   ]
  },
  {
   "cell_type": "code",
   "execution_count": 56,
   "metadata": {
    "execution": {
     "iopub.execute_input": "2025-07-18T21:16:43.588758Z",
     "iopub.status.busy": "2025-07-18T21:16:43.588389Z",
     "iopub.status.idle": "2025-07-18T21:16:43.604850Z",
     "shell.execute_reply": "2025-07-18T21:16:43.603628Z",
     "shell.execute_reply.started": "2025-07-18T21:16:43.588733Z"
    }
   },
   "outputs": [
    {
     "data": {
      "text/html": [
       "<div>\n",
       "<style scoped>\n",
       "    .dataframe tbody tr th:only-of-type {\n",
       "        vertical-align: middle;\n",
       "    }\n",
       "\n",
       "    .dataframe tbody tr th {\n",
       "        vertical-align: top;\n",
       "    }\n",
       "\n",
       "    .dataframe thead th {\n",
       "        text-align: right;\n",
       "    }\n",
       "</style>\n",
       "<table border=\"1\" class=\"dataframe\">\n",
       "  <thead>\n",
       "    <tr style=\"text-align: right;\">\n",
       "      <th></th>\n",
       "      <th>show_id</th>\n",
       "      <th>type</th>\n",
       "      <th>title</th>\n",
       "      <th>director</th>\n",
       "      <th>cast</th>\n",
       "      <th>country</th>\n",
       "      <th>date_added</th>\n",
       "      <th>release_year</th>\n",
       "      <th>rating</th>\n",
       "      <th>duration</th>\n",
       "      <th>gender</th>\n",
       "      <th>description</th>\n",
       "    </tr>\n",
       "  </thead>\n",
       "  <tbody>\n",
       "    <tr>\n",
       "      <th>330</th>\n",
       "      <td>s331</td>\n",
       "      <td>Movie</td>\n",
       "      <td>Arendelle Castle Yule Log</td>\n",
       "      <td>No information</td>\n",
       "      <td>No information</td>\n",
       "      <td>United States</td>\n",
       "      <td>2020-12-18</td>\n",
       "      <td>2020</td>\n",
       "      <td>TV-G</td>\n",
       "      <td>180.0</td>\n",
       "      <td>Animation, Family</td>\n",
       "      <td>Set the wintry mood for your holiday celebrati...</td>\n",
       "    </tr>\n",
       "    <tr>\n",
       "      <th>333</th>\n",
       "      <td>s334</td>\n",
       "      <td>Movie</td>\n",
       "      <td>Dory's Reef Cam</td>\n",
       "      <td>Michal Makarewicz</td>\n",
       "      <td>No information</td>\n",
       "      <td>United States</td>\n",
       "      <td>2020-12-18</td>\n",
       "      <td>2020</td>\n",
       "      <td>TV-G</td>\n",
       "      <td>182.0</td>\n",
       "      <td>Animation, Family</td>\n",
       "      <td>Dive into the waters below and watch the aquat...</td>\n",
       "    </tr>\n",
       "    <tr>\n",
       "      <th>1039</th>\n",
       "      <td>s1040</td>\n",
       "      <td>Movie</td>\n",
       "      <td>Marvel Studios' Avengers: Endgame</td>\n",
       "      <td>Anthony Russo, Joe Russo</td>\n",
       "      <td>Robert Downey Jr., Chris Evans, Mark Ruffalo, ...</td>\n",
       "      <td>United States</td>\n",
       "      <td>2019-11-12</td>\n",
       "      <td>2019</td>\n",
       "      <td>PG-13</td>\n",
       "      <td>183.0</td>\n",
       "      <td>Action-Adventure, Fantasy, Science Fiction</td>\n",
       "      <td>The epic finale to the Infinity Saga, this dra...</td>\n",
       "    </tr>\n",
       "  </tbody>\n",
       "</table>\n",
       "</div>"
      ],
      "text/plain": [
       "     show_id   type                              title  \\\n",
       "330     s331  Movie          Arendelle Castle Yule Log   \n",
       "333     s334  Movie                    Dory's Reef Cam   \n",
       "1039   s1040  Movie  Marvel Studios' Avengers: Endgame   \n",
       "\n",
       "                      director  \\\n",
       "330             No information   \n",
       "333          Michal Makarewicz   \n",
       "1039  Anthony Russo, Joe Russo   \n",
       "\n",
       "                                                   cast        country  \\\n",
       "330                                      No information  United States   \n",
       "333                                      No information  United States   \n",
       "1039  Robert Downey Jr., Chris Evans, Mark Ruffalo, ...  United States   \n",
       "\n",
       "      date_added  release_year rating  duration  \\\n",
       "330   2020-12-18          2020   TV-G     180.0   \n",
       "333   2020-12-18          2020   TV-G     182.0   \n",
       "1039  2019-11-12          2019  PG-13     183.0   \n",
       "\n",
       "                                          gender  \\\n",
       "330                            Animation, Family   \n",
       "333                            Animation, Family   \n",
       "1039  Action-Adventure, Fantasy, Science Fiction   \n",
       "\n",
       "                                            description  \n",
       "330   Set the wintry mood for your holiday celebrati...  \n",
       "333   Dive into the waters below and watch the aquat...  \n",
       "1039  The epic finale to the Infinity Saga, this dra...  "
      ]
     },
     "execution_count": 56,
     "metadata": {},
     "output_type": "execute_result"
    }
   ],
   "source": [
    "outliers_iqr"
   ]
  },
  {
   "cell_type": "code",
   "execution_count": 57,
   "metadata": {
    "execution": {
     "iopub.execute_input": "2025-07-18T21:16:46.115177Z",
     "iopub.status.busy": "2025-07-18T21:16:46.114847Z",
     "iopub.status.idle": "2025-07-18T21:16:46.132157Z",
     "shell.execute_reply": "2025-07-18T21:16:46.131256Z",
     "shell.execute_reply.started": "2025-07-18T21:16:46.115155Z"
    }
   },
   "outputs": [
    {
     "data": {
      "text/html": [
       "<div>\n",
       "<style scoped>\n",
       "    .dataframe tbody tr th:only-of-type {\n",
       "        vertical-align: middle;\n",
       "    }\n",
       "\n",
       "    .dataframe tbody tr th {\n",
       "        vertical-align: top;\n",
       "    }\n",
       "\n",
       "    .dataframe thead th {\n",
       "        text-align: right;\n",
       "    }\n",
       "</style>\n",
       "<table border=\"1\" class=\"dataframe\">\n",
       "  <thead>\n",
       "    <tr style=\"text-align: right;\">\n",
       "      <th></th>\n",
       "      <th>release_year</th>\n",
       "      <th>duration</th>\n",
       "    </tr>\n",
       "  </thead>\n",
       "  <tbody>\n",
       "    <tr>\n",
       "      <th>count</th>\n",
       "      <td>3.000000</td>\n",
       "      <td>3.000000</td>\n",
       "    </tr>\n",
       "    <tr>\n",
       "      <th>mean</th>\n",
       "      <td>2019.666667</td>\n",
       "      <td>181.666667</td>\n",
       "    </tr>\n",
       "    <tr>\n",
       "      <th>std</th>\n",
       "      <td>0.577350</td>\n",
       "      <td>1.527525</td>\n",
       "    </tr>\n",
       "    <tr>\n",
       "      <th>min</th>\n",
       "      <td>2019.000000</td>\n",
       "      <td>180.000000</td>\n",
       "    </tr>\n",
       "    <tr>\n",
       "      <th>25%</th>\n",
       "      <td>2019.500000</td>\n",
       "      <td>181.000000</td>\n",
       "    </tr>\n",
       "    <tr>\n",
       "      <th>50%</th>\n",
       "      <td>2020.000000</td>\n",
       "      <td>182.000000</td>\n",
       "    </tr>\n",
       "    <tr>\n",
       "      <th>75%</th>\n",
       "      <td>2020.000000</td>\n",
       "      <td>182.500000</td>\n",
       "    </tr>\n",
       "    <tr>\n",
       "      <th>max</th>\n",
       "      <td>2020.000000</td>\n",
       "      <td>183.000000</td>\n",
       "    </tr>\n",
       "  </tbody>\n",
       "</table>\n",
       "</div>"
      ],
      "text/plain": [
       "       release_year    duration\n",
       "count      3.000000    3.000000\n",
       "mean    2019.666667  181.666667\n",
       "std        0.577350    1.527525\n",
       "min     2019.000000  180.000000\n",
       "25%     2019.500000  181.000000\n",
       "50%     2020.000000  182.000000\n",
       "75%     2020.000000  182.500000\n",
       "max     2020.000000  183.000000"
      ]
     },
     "execution_count": 57,
     "metadata": {},
     "output_type": "execute_result"
    }
   ],
   "source": [
    "outliers_iqr.describe()"
   ]
  },
  {
   "cell_type": "code",
   "execution_count": 58,
   "metadata": {
    "execution": {
     "iopub.execute_input": "2025-07-18T21:17:07.794453Z",
     "iopub.status.busy": "2025-07-18T21:17:07.794074Z",
     "iopub.status.idle": "2025-07-18T21:17:07.802784Z",
     "shell.execute_reply": "2025-07-18T21:17:07.801566Z",
     "shell.execute_reply.started": "2025-07-18T21:17:07.794428Z"
    }
   },
   "outputs": [],
   "source": [
    "# Removing outliers\n",
    "movies_no_outliers = movies_disney_outliers.drop(outliers_iqr.index)"
   ]
  },
  {
   "cell_type": "code",
   "execution_count": 60,
   "metadata": {
    "execution": {
     "iopub.execute_input": "2025-07-18T21:17:12.500130Z",
     "iopub.status.busy": "2025-07-18T21:17:12.499822Z",
     "iopub.status.idle": "2025-07-18T21:17:12.517634Z",
     "shell.execute_reply": "2025-07-18T21:17:12.516553Z",
     "shell.execute_reply.started": "2025-07-18T21:17:12.500107Z"
    }
   },
   "outputs": [
    {
     "data": {
      "text/html": [
       "<div>\n",
       "<style scoped>\n",
       "    .dataframe tbody tr th:only-of-type {\n",
       "        vertical-align: middle;\n",
       "    }\n",
       "\n",
       "    .dataframe tbody tr th {\n",
       "        vertical-align: top;\n",
       "    }\n",
       "\n",
       "    .dataframe thead th {\n",
       "        text-align: right;\n",
       "    }\n",
       "</style>\n",
       "<table border=\"1\" class=\"dataframe\">\n",
       "  <thead>\n",
       "    <tr style=\"text-align: right;\">\n",
       "      <th></th>\n",
       "      <th>release_year</th>\n",
       "      <th>duration</th>\n",
       "    </tr>\n",
       "  </thead>\n",
       "  <tbody>\n",
       "    <tr>\n",
       "      <th>count</th>\n",
       "      <td>1049.000000</td>\n",
       "      <td>1049.000000</td>\n",
       "    </tr>\n",
       "    <tr>\n",
       "      <th>mean</th>\n",
       "      <td>1999.172545</td>\n",
       "      <td>71.596759</td>\n",
       "    </tr>\n",
       "    <tr>\n",
       "      <th>std</th>\n",
       "      <td>23.867593</td>\n",
       "      <td>40.226013</td>\n",
       "    </tr>\n",
       "    <tr>\n",
       "      <th>min</th>\n",
       "      <td>1928.000000</td>\n",
       "      <td>1.000000</td>\n",
       "    </tr>\n",
       "    <tr>\n",
       "      <th>25%</th>\n",
       "      <td>1994.000000</td>\n",
       "      <td>44.000000</td>\n",
       "    </tr>\n",
       "    <tr>\n",
       "      <th>50%</th>\n",
       "      <td>2008.000000</td>\n",
       "      <td>85.000000</td>\n",
       "    </tr>\n",
       "    <tr>\n",
       "      <th>75%</th>\n",
       "      <td>2017.000000</td>\n",
       "      <td>98.000000</td>\n",
       "    </tr>\n",
       "    <tr>\n",
       "      <th>max</th>\n",
       "      <td>2021.000000</td>\n",
       "      <td>175.000000</td>\n",
       "    </tr>\n",
       "  </tbody>\n",
       "</table>\n",
       "</div>"
      ],
      "text/plain": [
       "       release_year     duration\n",
       "count   1049.000000  1049.000000\n",
       "mean    1999.172545    71.596759\n",
       "std       23.867593    40.226013\n",
       "min     1928.000000     1.000000\n",
       "25%     1994.000000    44.000000\n",
       "50%     2008.000000    85.000000\n",
       "75%     2017.000000    98.000000\n",
       "max     2021.000000   175.000000"
      ]
     },
     "execution_count": 60,
     "metadata": {},
     "output_type": "execute_result"
    }
   ],
   "source": [
    "movies_no_outliers.describe()"
   ]
  },
  {
   "cell_type": "markdown",
   "metadata": {},
   "source": [
    "### Disney TV Shows"
   ]
  },
  {
   "cell_type": "code",
   "execution_count": 63,
   "metadata": {
    "execution": {
     "iopub.execute_input": "2025-07-18T21:19:33.633418Z",
     "iopub.status.busy": "2025-07-18T21:19:33.632994Z",
     "iopub.status.idle": "2025-07-18T21:19:33.640455Z",
     "shell.execute_reply": "2025-07-18T21:19:33.639286Z",
     "shell.execute_reply.started": "2025-07-18T21:19:33.633390Z"
    }
   },
   "outputs": [
    {
     "data": {
      "text/plain": [
       "(398, 12)"
      ]
     },
     "execution_count": 63,
     "metadata": {},
     "output_type": "execute_result"
    }
   ],
   "source": [
    "df_disney_shows_silver.shape"
   ]
  },
  {
   "cell_type": "code",
   "execution_count": 64,
   "metadata": {
    "execution": {
     "iopub.execute_input": "2025-07-18T21:19:39.749232Z",
     "iopub.status.busy": "2025-07-18T21:19:39.747990Z",
     "iopub.status.idle": "2025-07-18T21:19:39.764726Z",
     "shell.execute_reply": "2025-07-18T21:19:39.763667Z",
     "shell.execute_reply.started": "2025-07-18T21:19:39.749190Z"
    }
   },
   "outputs": [
    {
     "data": {
      "text/html": [
       "<div>\n",
       "<style scoped>\n",
       "    .dataframe tbody tr th:only-of-type {\n",
       "        vertical-align: middle;\n",
       "    }\n",
       "\n",
       "    .dataframe tbody tr th {\n",
       "        vertical-align: top;\n",
       "    }\n",
       "\n",
       "    .dataframe thead th {\n",
       "        text-align: right;\n",
       "    }\n",
       "</style>\n",
       "<table border=\"1\" class=\"dataframe\">\n",
       "  <thead>\n",
       "    <tr style=\"text-align: right;\">\n",
       "      <th></th>\n",
       "      <th>release_year</th>\n",
       "      <th>duration</th>\n",
       "    </tr>\n",
       "  </thead>\n",
       "  <tbody>\n",
       "    <tr>\n",
       "      <th>count</th>\n",
       "      <td>398.000000</td>\n",
       "      <td>398.000000</td>\n",
       "    </tr>\n",
       "    <tr>\n",
       "      <th>mean</th>\n",
       "      <td>2013.296482</td>\n",
       "      <td>2.118090</td>\n",
       "    </tr>\n",
       "    <tr>\n",
       "      <th>std</th>\n",
       "      <td>9.659051</td>\n",
       "      <td>2.411898</td>\n",
       "    </tr>\n",
       "    <tr>\n",
       "      <th>min</th>\n",
       "      <td>1955.000000</td>\n",
       "      <td>1.000000</td>\n",
       "    </tr>\n",
       "    <tr>\n",
       "      <th>25%</th>\n",
       "      <td>2011.000000</td>\n",
       "      <td>1.000000</td>\n",
       "    </tr>\n",
       "    <tr>\n",
       "      <th>50%</th>\n",
       "      <td>2017.000000</td>\n",
       "      <td>1.000000</td>\n",
       "    </tr>\n",
       "    <tr>\n",
       "      <th>75%</th>\n",
       "      <td>2019.000000</td>\n",
       "      <td>2.000000</td>\n",
       "    </tr>\n",
       "    <tr>\n",
       "      <th>max</th>\n",
       "      <td>2021.000000</td>\n",
       "      <td>32.000000</td>\n",
       "    </tr>\n",
       "  </tbody>\n",
       "</table>\n",
       "</div>"
      ],
      "text/plain": [
       "       release_year    duration\n",
       "count    398.000000  398.000000\n",
       "mean    2013.296482    2.118090\n",
       "std        9.659051    2.411898\n",
       "min     1955.000000    1.000000\n",
       "25%     2011.000000    1.000000\n",
       "50%     2017.000000    1.000000\n",
       "75%     2019.000000    2.000000\n",
       "max     2021.000000   32.000000"
      ]
     },
     "execution_count": 64,
     "metadata": {},
     "output_type": "execute_result"
    }
   ],
   "source": [
    "df_disney_shows_silver.describe()"
   ]
  },
  {
   "cell_type": "code",
   "execution_count": 70,
   "metadata": {
    "execution": {
     "iopub.execute_input": "2025-07-18T21:23:04.665932Z",
     "iopub.status.busy": "2025-07-18T21:23:04.665504Z",
     "iopub.status.idle": "2025-07-18T21:23:04.676230Z",
     "shell.execute_reply": "2025-07-18T21:23:04.675064Z",
     "shell.execute_reply.started": "2025-07-18T21:23:04.665903Z"
    }
   },
   "outputs": [
    {
     "data": {
      "text/plain": [
       "0.25    1.0\n",
       "0.50    1.0\n",
       "0.75    2.0\n",
       "Name: duration, dtype: float64"
      ]
     },
     "execution_count": 70,
     "metadata": {},
     "output_type": "execute_result"
    }
   ],
   "source": [
    "# Quartis\n",
    "df_disney_shows_silver['duration'].quantile([0.25, 0.5, 0.75])"
   ]
  },
  {
   "cell_type": "code",
   "execution_count": 71,
   "metadata": {
    "execution": {
     "iopub.execute_input": "2025-07-18T21:23:33.387619Z",
     "iopub.status.busy": "2025-07-18T21:23:33.387248Z",
     "iopub.status.idle": "2025-07-18T21:23:33.393875Z",
     "shell.execute_reply": "2025-07-18T21:23:33.392789Z",
     "shell.execute_reply.started": "2025-07-18T21:23:33.387573Z"
    }
   },
   "outputs": [
    {
     "name": "stdout",
     "output_type": "stream",
     "text": [
      "Min Duration: 1.00\n",
      "Max Duration: 32.00\n"
     ]
    }
   ],
   "source": [
    "# Min e Max duration\n",
    "min_duration = df_disney_shows_silver['duration'].min()\n",
    "max_duration = df_disney_shows_silver['duration'].max()\n",
    "\n",
    "print(f\"Min Duration: {min_duration:.2f}\")\n",
    "print(f\"Max Duration: {max_duration:.2f}\")"
   ]
  },
  {
   "cell_type": "code",
   "execution_count": 72,
   "metadata": {
    "execution": {
     "iopub.execute_input": "2025-07-18T21:24:19.001477Z",
     "iopub.status.busy": "2025-07-18T21:24:19.000509Z",
     "iopub.status.idle": "2025-07-18T21:24:19.010072Z",
     "shell.execute_reply": "2025-07-18T21:24:19.008996Z",
     "shell.execute_reply.started": "2025-07-18T21:24:19.001449Z"
    }
   },
   "outputs": [
    {
     "name": "stdout",
     "output_type": "stream",
     "text": [
      "Filme com a menor duração: The Beatles: Get Back\n",
      "Filme com a maior duração: The Simpsons\n"
     ]
    }
   ],
   "source": [
    "movie_min = df_disney_shows_silver[df_disney_shows_silver['duration'] == min_duration]\n",
    "movie_max = df_disney_shows_silver[df_disney_shows_silver['duration'] == max_duration]\n",
    "\n",
    "print(f\"Filme com a menor duração: {movie_min['title'].values[0]}\")\n",
    "print(f\"Filme com a maior duração: {movie_max['title'].values[0]}\")"
   ]
  },
  {
   "cell_type": "code",
   "execution_count": 75,
   "metadata": {
    "execution": {
     "iopub.execute_input": "2025-07-18T21:25:25.137437Z",
     "iopub.status.busy": "2025-07-18T21:25:25.137066Z",
     "iopub.status.idle": "2025-07-18T21:25:25.144099Z",
     "shell.execute_reply": "2025-07-18T21:25:25.143170Z",
     "shell.execute_reply.started": "2025-07-18T21:25:25.137412Z"
    }
   },
   "outputs": [
    {
     "data": {
      "text/plain": [
       "219"
      ]
     },
     "execution_count": 75,
     "metadata": {},
     "output_type": "execute_result"
    }
   ],
   "source": [
    "movie_min.shape[0]"
   ]
  },
  {
   "cell_type": "code",
   "execution_count": 76,
   "metadata": {
    "execution": {
     "iopub.execute_input": "2025-07-18T21:25:33.787265Z",
     "iopub.status.busy": "2025-07-18T21:25:33.786539Z",
     "iopub.status.idle": "2025-07-18T21:25:33.793495Z",
     "shell.execute_reply": "2025-07-18T21:25:33.792572Z",
     "shell.execute_reply.started": "2025-07-18T21:25:33.787232Z"
    }
   },
   "outputs": [
    {
     "data": {
      "text/plain": [
       "1"
      ]
     },
     "execution_count": 76,
     "metadata": {},
     "output_type": "execute_result"
    }
   ],
   "source": [
    "movie_max.shape[0]"
   ]
  },
  {
   "cell_type": "code",
   "execution_count": 78,
   "metadata": {
    "execution": {
     "iopub.execute_input": "2025-07-18T21:25:56.785559Z",
     "iopub.status.busy": "2025-07-18T21:25:56.785230Z",
     "iopub.status.idle": "2025-07-18T21:25:56.799487Z",
     "shell.execute_reply": "2025-07-18T21:25:56.798338Z",
     "shell.execute_reply.started": "2025-07-18T21:25:56.785538Z"
    }
   },
   "outputs": [
    {
     "data": {
      "text/html": [
       "<div>\n",
       "<style scoped>\n",
       "    .dataframe tbody tr th:only-of-type {\n",
       "        vertical-align: middle;\n",
       "    }\n",
       "\n",
       "    .dataframe tbody tr th {\n",
       "        vertical-align: top;\n",
       "    }\n",
       "\n",
       "    .dataframe thead th {\n",
       "        text-align: right;\n",
       "    }\n",
       "</style>\n",
       "<table border=\"1\" class=\"dataframe\">\n",
       "  <thead>\n",
       "    <tr style=\"text-align: right;\">\n",
       "      <th></th>\n",
       "      <th>show_id</th>\n",
       "      <th>type</th>\n",
       "      <th>title</th>\n",
       "      <th>director</th>\n",
       "      <th>cast</th>\n",
       "      <th>country</th>\n",
       "      <th>date_added</th>\n",
       "      <th>release_year</th>\n",
       "      <th>rating</th>\n",
       "      <th>duration</th>\n",
       "      <th>gender</th>\n",
       "      <th>description</th>\n",
       "    </tr>\n",
       "  </thead>\n",
       "  <tbody>\n",
       "    <tr>\n",
       "      <th>92</th>\n",
       "      <td>s93</td>\n",
       "      <td>TV Show</td>\n",
       "      <td>The Simpsons</td>\n",
       "      <td>No information</td>\n",
       "      <td>Dan Castellaneta, Julie Kavner, Nancy Cartwrig...</td>\n",
       "      <td>United States</td>\n",
       "      <td>2021-09-29</td>\n",
       "      <td>1989</td>\n",
       "      <td>TV-PG</td>\n",
       "      <td>32.0</td>\n",
       "      <td>Animation, Comedy</td>\n",
       "      <td>The world’s favorite nuclear family, in the aw...</td>\n",
       "    </tr>\n",
       "  </tbody>\n",
       "</table>\n",
       "</div>"
      ],
      "text/plain": [
       "   show_id     type         title        director  \\\n",
       "92     s93  TV Show  The Simpsons  No information   \n",
       "\n",
       "                                                 cast        country  \\\n",
       "92  Dan Castellaneta, Julie Kavner, Nancy Cartwrig...  United States   \n",
       "\n",
       "    date_added  release_year rating  duration             gender  \\\n",
       "92  2021-09-29          1989  TV-PG      32.0  Animation, Comedy   \n",
       "\n",
       "                                          description  \n",
       "92  The world’s favorite nuclear family, in the aw...  "
      ]
     },
     "execution_count": 78,
     "metadata": {},
     "output_type": "execute_result"
    }
   ],
   "source": [
    "movie_max"
   ]
  },
  {
   "cell_type": "markdown",
   "metadata": {},
   "source": [
    "#### Outliers"
   ]
  },
  {
   "cell_type": "code",
   "execution_count": 79,
   "metadata": {
    "execution": {
     "iopub.execute_input": "2025-07-18T21:26:41.798887Z",
     "iopub.status.busy": "2025-07-18T21:26:41.798540Z",
     "iopub.status.idle": "2025-07-18T21:26:41.804376Z",
     "shell.execute_reply": "2025-07-18T21:26:41.803283Z",
     "shell.execute_reply.started": "2025-07-18T21:26:41.798864Z"
    }
   },
   "outputs": [],
   "source": [
    "shows_disney_outliers = df_disney_shows_silver.copy()"
   ]
  },
  {
   "cell_type": "code",
   "execution_count": 80,
   "metadata": {
    "execution": {
     "iopub.execute_input": "2025-07-18T21:27:14.244493Z",
     "iopub.status.busy": "2025-07-18T21:27:14.244109Z",
     "iopub.status.idle": "2025-07-18T21:27:14.253494Z",
     "shell.execute_reply": "2025-07-18T21:27:14.252321Z",
     "shell.execute_reply.started": "2025-07-18T21:27:14.244464Z"
    }
   },
   "outputs": [
    {
     "name": "stdout",
     "output_type": "stream",
     "text": [
      "Q1: 1.0 \n",
      "Q3: 2.0\n"
     ]
    }
   ],
   "source": [
    "q1 = shows_disney_outliers['duration'].quantile(0.25)\n",
    "q3 = shows_disney_outliers['duration'].quantile(0.75)\n",
    "\n",
    "print(f\"Q1: {q1} \\nQ3: {q3}\")"
   ]
  },
  {
   "cell_type": "code",
   "execution_count": 81,
   "metadata": {
    "execution": {
     "iopub.execute_input": "2025-07-18T21:27:40.289336Z",
     "iopub.status.busy": "2025-07-18T21:27:40.288632Z",
     "iopub.status.idle": "2025-07-18T21:27:40.294177Z",
     "shell.execute_reply": "2025-07-18T21:27:40.293024Z",
     "shell.execute_reply.started": "2025-07-18T21:27:40.289306Z"
    }
   },
   "outputs": [
    {
     "name": "stdout",
     "output_type": "stream",
     "text": [
      "IQR: 1.0\n"
     ]
    }
   ],
   "source": [
    "iqr = q3 - q1\n",
    "print(f\"IQR: {iqr}\")"
   ]
  },
  {
   "cell_type": "code",
   "execution_count": 84,
   "metadata": {
    "execution": {
     "iopub.execute_input": "2025-07-18T21:29:20.200205Z",
     "iopub.status.busy": "2025-07-18T21:29:20.199894Z",
     "iopub.status.idle": "2025-07-18T21:29:20.352651Z",
     "shell.execute_reply": "2025-07-18T21:29:20.351554Z",
     "shell.execute_reply.started": "2025-07-18T21:29:20.200184Z"
    }
   },
   "outputs": [
    {
     "data": {
      "text/plain": [
       "<Axes: ylabel='duration'>"
      ]
     },
     "execution_count": 84,
     "metadata": {},
     "output_type": "execute_result"
    },
    {
     "data": {
      "image/png": "[encoded data removed]",
      "text/plain": [
       "<Figure size 640x480 with 1 Axes>"
      ]
     },
     "metadata": {},
     "output_type": "display_data"
    }
   ],
   "source": [
    "# Boxplot\n",
    "sns.boxplot(y=shows_disney_outliers['duration'])"
   ]
  },
  {
   "cell_type": "code",
   "execution_count": 85,
   "metadata": {
    "execution": {
     "iopub.execute_input": "2025-07-18T21:30:34.281126Z",
     "iopub.status.busy": "2025-07-18T21:30:34.280798Z",
     "iopub.status.idle": "2025-07-18T21:30:34.288307Z",
     "shell.execute_reply": "2025-07-18T21:30:34.287268Z",
     "shell.execute_reply.started": "2025-07-18T21:30:34.281096Z"
    }
   },
   "outputs": [],
   "source": [
    "# IQR Outliers\n",
    "shows_outliers_iqr = shows_disney_outliers[(shows_disney_outliers['duration'] < (q1 - 1.5 * iqr)) | (shows_disney_outliers['duration'] > (q3 + 1.5 * iqr))]"
   ]
  },
  {
   "cell_type": "code",
   "execution_count": 86,
   "metadata": {
    "execution": {
     "iopub.execute_input": "2025-07-18T21:30:53.603458Z",
     "iopub.status.busy": "2025-07-18T21:30:53.602303Z",
     "iopub.status.idle": "2025-07-18T21:30:53.609809Z",
     "shell.execute_reply": "2025-07-18T21:30:53.608812Z",
     "shell.execute_reply.started": "2025-07-18T21:30:53.603423Z"
    }
   },
   "outputs": [
    {
     "data": {
      "text/plain": [
       "(52, 12)"
      ]
     },
     "execution_count": 86,
     "metadata": {},
     "output_type": "execute_result"
    }
   ],
   "source": [
    "shows_outliers_iqr.shape"
   ]
  },
  {
   "cell_type": "code",
   "execution_count": 88,
   "metadata": {
    "execution": {
     "iopub.execute_input": "2025-07-18T21:31:17.423936Z",
     "iopub.status.busy": "2025-07-18T21:31:17.423646Z",
     "iopub.status.idle": "2025-07-18T21:31:17.440616Z",
     "shell.execute_reply": "2025-07-18T21:31:17.439570Z",
     "shell.execute_reply.started": "2025-07-18T21:31:17.423915Z"
    }
   },
   "outputs": [
    {
     "data": {
      "text/html": [
       "<div>\n",
       "<style scoped>\n",
       "    .dataframe tbody tr th:only-of-type {\n",
       "        vertical-align: middle;\n",
       "    }\n",
       "\n",
       "    .dataframe tbody tr th {\n",
       "        vertical-align: top;\n",
       "    }\n",
       "\n",
       "    .dataframe thead th {\n",
       "        text-align: right;\n",
       "    }\n",
       "</style>\n",
       "<table border=\"1\" class=\"dataframe\">\n",
       "  <thead>\n",
       "    <tr style=\"text-align: right;\">\n",
       "      <th></th>\n",
       "      <th>release_year</th>\n",
       "      <th>duration</th>\n",
       "    </tr>\n",
       "  </thead>\n",
       "  <tbody>\n",
       "    <tr>\n",
       "      <th>count</th>\n",
       "      <td>52.000000</td>\n",
       "      <td>52.000000</td>\n",
       "    </tr>\n",
       "    <tr>\n",
       "      <th>mean</th>\n",
       "      <td>2006.211538</td>\n",
       "      <td>6.250000</td>\n",
       "    </tr>\n",
       "    <tr>\n",
       "      <th>std</th>\n",
       "      <td>10.794582</td>\n",
       "      <td>4.668942</td>\n",
       "    </tr>\n",
       "    <tr>\n",
       "      <th>min</th>\n",
       "      <td>1973.000000</td>\n",
       "      <td>4.000000</td>\n",
       "    </tr>\n",
       "    <tr>\n",
       "      <th>25%</th>\n",
       "      <td>2001.750000</td>\n",
       "      <td>4.000000</td>\n",
       "    </tr>\n",
       "    <tr>\n",
       "      <th>50%</th>\n",
       "      <td>2011.000000</td>\n",
       "      <td>5.000000</td>\n",
       "    </tr>\n",
       "    <tr>\n",
       "      <th>75%</th>\n",
       "      <td>2013.250000</td>\n",
       "      <td>7.000000</td>\n",
       "    </tr>\n",
       "    <tr>\n",
       "      <th>max</th>\n",
       "      <td>2017.000000</td>\n",
       "      <td>32.000000</td>\n",
       "    </tr>\n",
       "  </tbody>\n",
       "</table>\n",
       "</div>"
      ],
      "text/plain": [
       "       release_year   duration\n",
       "count     52.000000  52.000000\n",
       "mean    2006.211538   6.250000\n",
       "std       10.794582   4.668942\n",
       "min     1973.000000   4.000000\n",
       "25%     2001.750000   4.000000\n",
       "50%     2011.000000   5.000000\n",
       "75%     2013.250000   7.000000\n",
       "max     2017.000000  32.000000"
      ]
     },
     "execution_count": 88,
     "metadata": {},
     "output_type": "execute_result"
    }
   ],
   "source": [
    "shows_outliers_iqr.describe()"
   ]
  },
  {
   "cell_type": "code",
   "execution_count": 89,
   "metadata": {
    "execution": {
     "iopub.execute_input": "2025-07-18T21:32:15.399653Z",
     "iopub.status.busy": "2025-07-18T21:32:15.399257Z",
     "iopub.status.idle": "2025-07-18T21:32:15.406472Z",
     "shell.execute_reply": "2025-07-18T21:32:15.405168Z",
     "shell.execute_reply.started": "2025-07-18T21:32:15.399619Z"
    }
   },
   "outputs": [],
   "source": [
    "# Removing outliers\n",
    "shows_no_outliers = shows_disney_outliers.drop(shows_outliers_iqr.index)"
   ]
  },
  {
   "cell_type": "code",
   "execution_count": 90,
   "metadata": {
    "execution": {
     "iopub.execute_input": "2025-07-18T21:32:23.728369Z",
     "iopub.status.busy": "2025-07-18T21:32:23.727121Z",
     "iopub.status.idle": "2025-07-18T21:32:23.743655Z",
     "shell.execute_reply": "2025-07-18T21:32:23.742242Z",
     "shell.execute_reply.started": "2025-07-18T21:32:23.728334Z"
    }
   },
   "outputs": [
    {
     "data": {
      "text/html": [
       "<div>\n",
       "<style scoped>\n",
       "    .dataframe tbody tr th:only-of-type {\n",
       "        vertical-align: middle;\n",
       "    }\n",
       "\n",
       "    .dataframe tbody tr th {\n",
       "        vertical-align: top;\n",
       "    }\n",
       "\n",
       "    .dataframe thead th {\n",
       "        text-align: right;\n",
       "    }\n",
       "</style>\n",
       "<table border=\"1\" class=\"dataframe\">\n",
       "  <thead>\n",
       "    <tr style=\"text-align: right;\">\n",
       "      <th></th>\n",
       "      <th>release_year</th>\n",
       "      <th>duration</th>\n",
       "    </tr>\n",
       "  </thead>\n",
       "  <tbody>\n",
       "    <tr>\n",
       "      <th>count</th>\n",
       "      <td>346.000000</td>\n",
       "      <td>346.000000</td>\n",
       "    </tr>\n",
       "    <tr>\n",
       "      <th>mean</th>\n",
       "      <td>2014.361272</td>\n",
       "      <td>1.497110</td>\n",
       "    </tr>\n",
       "    <tr>\n",
       "      <th>std</th>\n",
       "      <td>9.023936</td>\n",
       "      <td>0.715252</td>\n",
       "    </tr>\n",
       "    <tr>\n",
       "      <th>min</th>\n",
       "      <td>1955.000000</td>\n",
       "      <td>1.000000</td>\n",
       "    </tr>\n",
       "    <tr>\n",
       "      <th>25%</th>\n",
       "      <td>2013.250000</td>\n",
       "      <td>1.000000</td>\n",
       "    </tr>\n",
       "    <tr>\n",
       "      <th>50%</th>\n",
       "      <td>2017.000000</td>\n",
       "      <td>1.000000</td>\n",
       "    </tr>\n",
       "    <tr>\n",
       "      <th>75%</th>\n",
       "      <td>2020.000000</td>\n",
       "      <td>2.000000</td>\n",
       "    </tr>\n",
       "    <tr>\n",
       "      <th>max</th>\n",
       "      <td>2021.000000</td>\n",
       "      <td>3.000000</td>\n",
       "    </tr>\n",
       "  </tbody>\n",
       "</table>\n",
       "</div>"
      ],
      "text/plain": [
       "       release_year    duration\n",
       "count    346.000000  346.000000\n",
       "mean    2014.361272    1.497110\n",
       "std        9.023936    0.715252\n",
       "min     1955.000000    1.000000\n",
       "25%     2013.250000    1.000000\n",
       "50%     2017.000000    1.000000\n",
       "75%     2020.000000    2.000000\n",
       "max     2021.000000    3.000000"
      ]
     },
     "execution_count": 90,
     "metadata": {},
     "output_type": "execute_result"
    }
   ],
   "source": [
    "shows_no_outliers.describe()"
   ]
  },
  {
   "cell_type": "code",
   "execution_count": 93,
   "metadata": {
    "execution": {
     "iopub.execute_input": "2025-07-18T21:32:44.088282Z",
     "iopub.status.busy": "2025-07-18T21:32:44.087945Z",
     "iopub.status.idle": "2025-07-18T21:32:44.094727Z",
     "shell.execute_reply": "2025-07-18T21:32:44.093784Z",
     "shell.execute_reply.started": "2025-07-18T21:32:44.088259Z"
    }
   },
   "outputs": [
    {
     "data": {
      "text/plain": [
       "(346, 12)"
      ]
     },
     "execution_count": 93,
     "metadata": {},
     "output_type": "execute_result"
    }
   ],
   "source": [
    "shows_no_outliers.shape"
   ]
  },
  {
   "cell_type": "code",
   "execution_count": null,
   "metadata": {},
   "outputs": [],
   "source": []
  }
 ],
 "metadata": {
  "kaggle": {
   "accelerator": "none",
   "dataSources": [
    {
     "datasetId": 1624191,
     "sourceId": 2864236,
     "sourceType": "datasetVersion"
    }
   ],
   "dockerImageVersionId": 31089,
   "isGpuEnabled": false,
   "isInternetEnabled": true,
   "language": "python",
   "sourceType": "notebook"
  },
  "kernelspec": {
   "display_name": "Python 3 (ipykernel)",
   "language": "python",
   "name": "python3"
  },
  "language_info": {
   "codemirror_mode": {
    "name": "ipython",
    "version": 3
   },
   "file_extension": ".py",
   "mimetype": "text/x-python",
   "name": "python",
   "nbconvert_exporter": "python",
   "pygments_lexer": "ipython3",
   "version": "3.12.7"
  }
 },
 "nbformat": 4,
 "nbformat_minor": 4
}
